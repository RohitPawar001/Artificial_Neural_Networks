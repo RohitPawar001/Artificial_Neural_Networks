{
  "nbformat": 4,
  "nbformat_minor": 0,
  "metadata": {
    "colab": {
      "provenance": [],
      "gpuType": "T4"
    },
    "kernelspec": {
      "name": "python3",
      "display_name": "Python 3"
    },
    "language_info": {
      "name": "python"
    },
    "accelerator": "GPU"
  },
  "cells": [
    {
      "cell_type": "markdown",
      "source": [
        "# Artificial Neural Network\n",
        "\n",
        "## 1. problem statement\n",
        "build the ann which predicts the flower belongs to which category from setosa, virgnica and versicolor."
      ],
      "metadata": {
        "id": "jyq1nZAkgMAR"
      }
    },
    {
      "cell_type": "markdown",
      "source": [
        "## implementations\n",
        "\n",
        "### importing necessary libraries"
      ],
      "metadata": {
        "id": "-7zBE42Ngril"
      }
    },
    {
      "cell_type": "code",
      "execution_count": 12,
      "metadata": {
        "id": "FE0h3LdLaMlA"
      },
      "outputs": [],
      "source": [
        "import pandas as pd\n",
        "import numpy as np\n",
        "from sklearn.datasets import load_iris\n",
        "\n",
        "from keras.models import Sequential\n",
        "from keras.layers import Dense\n",
        "from sklearn.preprocessing import StandardScaler\n",
        "from sklearn.model_selection import train_test_split\n"
      ]
    },
    {
      "cell_type": "markdown",
      "source": [
        "### reading the dataset"
      ],
      "metadata": {
        "id": "DR0Gr_mbgz21"
      }
    },
    {
      "cell_type": "code",
      "source": [
        "data = load_iris()"
      ],
      "metadata": {
        "id": "Rg5rQyLibzPM"
      },
      "execution_count": 13,
      "outputs": []
    },
    {
      "cell_type": "code",
      "source": [
        "df = pd.DataFrame(data.data,columns=data.feature_names)\n",
        "df['target'] = data.target"
      ],
      "metadata": {
        "id": "jiKhEhUab5sV"
      },
      "execution_count": 14,
      "outputs": []
    },
    {
      "cell_type": "code",
      "source": [
        "df[\"target\"].unique()"
      ],
      "metadata": {
        "colab": {
          "base_uri": "https://localhost:8080/"
        },
        "id": "BIKS9C00djWB",
        "outputId": "2e8cb74a-254d-4105-8491-1ac647669dc4"
      },
      "execution_count": 15,
      "outputs": [
        {
          "output_type": "execute_result",
          "data": {
            "text/plain": [
              "array([0, 1, 2])"
            ]
          },
          "metadata": {},
          "execution_count": 15
        }
      ]
    },
    {
      "cell_type": "markdown",
      "source": [
        "### independent and dependent feature split"
      ],
      "metadata": {
        "id": "48rwz0Wfg4KY"
      }
    },
    {
      "cell_type": "code",
      "source": [
        "x = df.iloc[:,:-1]\n",
        "y = df.iloc[:,-1]"
      ],
      "metadata": {
        "id": "8rHqtIiXcTd4"
      },
      "execution_count": 16,
      "outputs": []
    },
    {
      "cell_type": "markdown",
      "source": [
        "### train test split"
      ],
      "metadata": {
        "id": "QBlLAbYZg8N2"
      }
    },
    {
      "cell_type": "code",
      "source": [
        "x_train,x_test,y_train,y_test = train_test_split(x,y,test_size=0.2,random_state=42)"
      ],
      "metadata": {
        "id": "eLOZYbgYcbLl"
      },
      "execution_count": 17,
      "outputs": []
    },
    {
      "cell_type": "markdown",
      "source": [
        "### standardizing the dataset"
      ],
      "metadata": {
        "id": "UXXdYLExg-0R"
      }
    },
    {
      "cell_type": "code",
      "source": [
        "x_train = StandardScaler().fit_transform(x_train)\n",
        "x_test = StandardScaler().fit_transform(x_test)"
      ],
      "metadata": {
        "id": "6HlcexL_c07Z"
      },
      "execution_count": 18,
      "outputs": []
    },
    {
      "cell_type": "markdown",
      "source": [
        "# building the architecture of the model"
      ],
      "metadata": {
        "id": "TZs6RqMQhF_P"
      }
    },
    {
      "cell_type": "code",
      "source": [
        "model = Sequential(\n",
        "    [\n",
        "        Dense(10, activation=\"relu\",input_dim=x_train.shape[1]),\n",
        "        Dense(10, activation=\"relu\"),\n",
        "        Dense(10,activation=\"relu\"),\n",
        "        Dense(1,activation=\"sigmoid\")\n",
        "    ]\n",
        ")\n",
        "\n",
        "model.compile(optimizer=\"adam\",loss=\"binary_crossentropy\",metrics=[\"accuracy\"])"
      ],
      "metadata": {
        "colab": {
          "base_uri": "https://localhost:8080/"
        },
        "id": "M7e86H7ObAF9",
        "outputId": "f8d9ba18-d71a-4adc-84aa-c1b60e11baa5"
      },
      "execution_count": 19,
      "outputs": [
        {
          "output_type": "stream",
          "name": "stderr",
          "text": [
            "/usr/local/lib/python3.10/dist-packages/keras/src/layers/core/dense.py:87: UserWarning: Do not pass an `input_shape`/`input_dim` argument to a layer. When using Sequential models, prefer using an `Input(shape)` object as the first layer in the model instead.\n",
            "  super().__init__(activity_regularizer=activity_regularizer, **kwargs)\n"
          ]
        }
      ]
    },
    {
      "cell_type": "markdown",
      "source": [
        "### training the model"
      ],
      "metadata": {
        "id": "nUwn87RdhKwN"
      }
    },
    {
      "cell_type": "code",
      "source": [
        "model.fit(x_train,y_train,epochs=250,batch_size=32,validation_data=(x_test,y_test))"
      ],
      "metadata": {
        "colab": {
          "base_uri": "https://localhost:8080/"
        },
        "id": "NplnX12EeCmE",
        "outputId": "70ccb07a-a277-4b81-d1dd-4e8b00aca8cd"
      },
      "execution_count": 20,
      "outputs": [
        {
          "output_type": "stream",
          "name": "stdout",
          "text": [
            "Epoch 1/250\n",
            "\u001b[1m4/4\u001b[0m \u001b[32m━━━━━━━━━━━━━━━━━━━━\u001b[0m\u001b[37m\u001b[0m \u001b[1m2s\u001b[0m 200ms/step - accuracy: 0.0879 - loss: 0.7585 - val_accuracy: 0.1333 - val_loss: 0.7408\n",
            "Epoch 2/250\n",
            "\u001b[1m4/4\u001b[0m \u001b[32m━━━━━━━━━━━━━━━━━━━━\u001b[0m\u001b[37m\u001b[0m \u001b[1m0s\u001b[0m 9ms/step - accuracy: 0.1550 - loss: 0.7336 - val_accuracy: 0.2333 - val_loss: 0.7218\n",
            "Epoch 3/250\n",
            "\u001b[1m4/4\u001b[0m \u001b[32m━━━━━━━━━━━━━━━━━━━━\u001b[0m\u001b[37m\u001b[0m \u001b[1m0s\u001b[0m 11ms/step - accuracy: 0.1896 - loss: 0.7253 - val_accuracy: 0.3000 - val_loss: 0.7074\n",
            "Epoch 4/250\n",
            "\u001b[1m4/4\u001b[0m \u001b[32m━━━━━━━━━━━━━━━━━━━━\u001b[0m\u001b[37m\u001b[0m \u001b[1m0s\u001b[0m 8ms/step - accuracy: 0.3212 - loss: 0.7041 - val_accuracy: 0.3000 - val_loss: 0.6956\n",
            "Epoch 5/250\n",
            "\u001b[1m4/4\u001b[0m \u001b[32m━━━━━━━━━━━━━━━━━━━━\u001b[0m\u001b[37m\u001b[0m \u001b[1m0s\u001b[0m 9ms/step - accuracy: 0.3710 - loss: 0.6870 - val_accuracy: 0.3333 - val_loss: 0.6836\n",
            "Epoch 6/250\n",
            "\u001b[1m4/4\u001b[0m \u001b[32m━━━━━━━━━━━━━━━━━━━━\u001b[0m\u001b[37m\u001b[0m \u001b[1m0s\u001b[0m 9ms/step - accuracy: 0.4827 - loss: 0.6736 - val_accuracy: 0.3333 - val_loss: 0.6693\n",
            "Epoch 7/250\n",
            "\u001b[1m4/4\u001b[0m \u001b[32m━━━━━━━━━━━━━━━━━━━━\u001b[0m\u001b[37m\u001b[0m \u001b[1m0s\u001b[0m 9ms/step - accuracy: 0.5321 - loss: 0.6630 - val_accuracy: 0.5000 - val_loss: 0.6534\n",
            "Epoch 8/250\n",
            "\u001b[1m4/4\u001b[0m \u001b[32m━━━━━━━━━━━━━━━━━━━━\u001b[0m\u001b[37m\u001b[0m \u001b[1m0s\u001b[0m 9ms/step - accuracy: 0.5579 - loss: 0.6469 - val_accuracy: 0.6000 - val_loss: 0.6359\n",
            "Epoch 9/250\n",
            "\u001b[1m4/4\u001b[0m \u001b[32m━━━━━━━━━━━━━━━━━━━━\u001b[0m\u001b[37m\u001b[0m \u001b[1m0s\u001b[0m 8ms/step - accuracy: 0.5908 - loss: 0.6241 - val_accuracy: 0.6000 - val_loss: 0.6174\n",
            "Epoch 10/250\n",
            "\u001b[1m4/4\u001b[0m \u001b[32m━━━━━━━━━━━━━━━━━━━━\u001b[0m\u001b[37m\u001b[0m \u001b[1m0s\u001b[0m 9ms/step - accuracy: 0.6200 - loss: 0.6104 - val_accuracy: 0.6333 - val_loss: 0.5989\n",
            "Epoch 11/250\n",
            "\u001b[1m4/4\u001b[0m \u001b[32m━━━━━━━━━━━━━━━━━━━━\u001b[0m\u001b[37m\u001b[0m \u001b[1m0s\u001b[0m 8ms/step - accuracy: 0.6506 - loss: 0.5923 - val_accuracy: 0.6333 - val_loss: 0.5791\n",
            "Epoch 12/250\n",
            "\u001b[1m4/4\u001b[0m \u001b[32m━━━━━━━━━━━━━━━━━━━━\u001b[0m\u001b[37m\u001b[0m \u001b[1m0s\u001b[0m 8ms/step - accuracy: 0.6175 - loss: 0.5681 - val_accuracy: 0.6333 - val_loss: 0.5580\n",
            "Epoch 13/250\n",
            "\u001b[1m4/4\u001b[0m \u001b[32m━━━━━━━━━━━━━━━━━━━━\u001b[0m\u001b[37m\u001b[0m \u001b[1m0s\u001b[0m 8ms/step - accuracy: 0.6833 - loss: 0.5519 - val_accuracy: 0.6333 - val_loss: 0.5361\n",
            "Epoch 14/250\n",
            "\u001b[1m4/4\u001b[0m \u001b[32m━━━━━━━━━━━━━━━━━━━━\u001b[0m\u001b[37m\u001b[0m \u001b[1m0s\u001b[0m 8ms/step - accuracy: 0.6385 - loss: 0.5230 - val_accuracy: 0.6333 - val_loss: 0.5121\n",
            "Epoch 15/250\n",
            "\u001b[1m4/4\u001b[0m \u001b[32m━━━━━━━━━━━━━━━━━━━━\u001b[0m\u001b[37m\u001b[0m \u001b[1m0s\u001b[0m 9ms/step - accuracy: 0.6521 - loss: 0.5055 - val_accuracy: 0.6333 - val_loss: 0.4858\n",
            "Epoch 16/250\n",
            "\u001b[1m4/4\u001b[0m \u001b[32m━━━━━━━━━━━━━━━━━━━━\u001b[0m\u001b[37m\u001b[0m \u001b[1m0s\u001b[0m 12ms/step - accuracy: 0.6760 - loss: 0.4846 - val_accuracy: 0.6333 - val_loss: 0.4562\n",
            "Epoch 17/250\n",
            "\u001b[1m4/4\u001b[0m \u001b[32m━━━━━━━━━━━━━━━━━━━━\u001b[0m\u001b[37m\u001b[0m \u001b[1m0s\u001b[0m 13ms/step - accuracy: 0.6510 - loss: 0.4441 - val_accuracy: 0.6333 - val_loss: 0.4229\n",
            "Epoch 18/250\n",
            "\u001b[1m4/4\u001b[0m \u001b[32m━━━━━━━━━━━━━━━━━━━━\u001b[0m\u001b[37m\u001b[0m \u001b[1m0s\u001b[0m 10ms/step - accuracy: 0.6740 - loss: 0.4177 - val_accuracy: 0.6333 - val_loss: 0.3838\n",
            "Epoch 19/250\n",
            "\u001b[1m4/4\u001b[0m \u001b[32m━━━━━━━━━━━━━━━━━━━━\u001b[0m\u001b[37m\u001b[0m \u001b[1m0s\u001b[0m 10ms/step - accuracy: 0.6594 - loss: 0.3735 - val_accuracy: 0.6333 - val_loss: 0.3404\n",
            "Epoch 20/250\n",
            "\u001b[1m4/4\u001b[0m \u001b[32m━━━━━━━━━━━━━━━━━━━━\u001b[0m\u001b[37m\u001b[0m \u001b[1m0s\u001b[0m 10ms/step - accuracy: 0.6615 - loss: 0.3426 - val_accuracy: 0.6333 - val_loss: 0.2930\n",
            "Epoch 21/250\n",
            "\u001b[1m4/4\u001b[0m \u001b[32m━━━━━━━━━━━━━━━━━━━━\u001b[0m\u001b[37m\u001b[0m \u001b[1m0s\u001b[0m 10ms/step - accuracy: 0.6385 - loss: 0.2851 - val_accuracy: 0.6333 - val_loss: 0.2407\n",
            "Epoch 22/250\n",
            "\u001b[1m4/4\u001b[0m \u001b[32m━━━━━━━━━━━━━━━━━━━━\u001b[0m\u001b[37m\u001b[0m \u001b[1m0s\u001b[0m 9ms/step - accuracy: 0.6908 - loss: 0.2669 - val_accuracy: 0.6333 - val_loss: 0.1848\n",
            "Epoch 23/250\n",
            "\u001b[1m4/4\u001b[0m \u001b[32m━━━━━━━━━━━━━━━━━━━━\u001b[0m\u001b[37m\u001b[0m \u001b[1m0s\u001b[0m 9ms/step - accuracy: 0.6388 - loss: 0.1509 - val_accuracy: 0.6333 - val_loss: 0.1241\n",
            "Epoch 24/250\n",
            "\u001b[1m4/4\u001b[0m \u001b[32m━━━━━━━━━━━━━━━━━━━━\u001b[0m\u001b[37m\u001b[0m \u001b[1m0s\u001b[0m 9ms/step - accuracy: 0.6773 - loss: 0.1506 - val_accuracy: 0.6333 - val_loss: 0.0576\n",
            "Epoch 25/250\n",
            "\u001b[1m4/4\u001b[0m \u001b[32m━━━━━━━━━━━━━━━━━━━━\u001b[0m\u001b[37m\u001b[0m \u001b[1m0s\u001b[0m 9ms/step - accuracy: 0.6523 - loss: 0.0493 - val_accuracy: 0.6333 - val_loss: -0.0133\n",
            "Epoch 26/250\n",
            "\u001b[1m4/4\u001b[0m \u001b[32m━━━━━━━━━━━━━━━━━━━━\u001b[0m\u001b[37m\u001b[0m \u001b[1m0s\u001b[0m 9ms/step - accuracy: 0.7096 - loss: 0.0555 - val_accuracy: 0.6333 - val_loss: -0.0876\n",
            "Epoch 27/250\n",
            "\u001b[1m4/4\u001b[0m \u001b[32m━━━━━━━━━━━━━━━━━━━━\u001b[0m\u001b[37m\u001b[0m \u001b[1m0s\u001b[0m 9ms/step - accuracy: 0.6825 - loss: -0.0374 - val_accuracy: 0.6333 - val_loss: -0.1665\n",
            "Epoch 28/250\n",
            "\u001b[1m4/4\u001b[0m \u001b[32m━━━━━━━━━━━━━━━━━━━━\u001b[0m\u001b[37m\u001b[0m \u001b[1m0s\u001b[0m 9ms/step - accuracy: 0.6825 - loss: -0.1079 - val_accuracy: 0.6333 - val_loss: -0.2490\n",
            "Epoch 29/250\n",
            "\u001b[1m4/4\u001b[0m \u001b[32m━━━━━━━━━━━━━━━━━━━━\u001b[0m\u001b[37m\u001b[0m \u001b[1m0s\u001b[0m 9ms/step - accuracy: 0.6460 - loss: -0.2557 - val_accuracy: 0.6333 - val_loss: -0.3359\n",
            "Epoch 30/250\n",
            "\u001b[1m4/4\u001b[0m \u001b[32m━━━━━━━━━━━━━━━━━━━━\u001b[0m\u001b[37m\u001b[0m \u001b[1m0s\u001b[0m 9ms/step - accuracy: 0.7231 - loss: -0.1918 - val_accuracy: 0.6333 - val_loss: -0.4250\n",
            "Epoch 31/250\n",
            "\u001b[1m4/4\u001b[0m \u001b[32m━━━━━━━━━━━━━━━━━━━━\u001b[0m\u001b[37m\u001b[0m \u001b[1m0s\u001b[0m 9ms/step - accuracy: 0.6731 - loss: -0.3823 - val_accuracy: 0.6333 - val_loss: -0.5200\n",
            "Epoch 32/250\n",
            "\u001b[1m4/4\u001b[0m \u001b[32m━━━━━━━━━━━━━━━━━━━━\u001b[0m\u001b[37m\u001b[0m \u001b[1m0s\u001b[0m 12ms/step - accuracy: 0.6762 - loss: -0.4829 - val_accuracy: 0.6333 - val_loss: -0.6217\n",
            "Epoch 33/250\n",
            "\u001b[1m4/4\u001b[0m \u001b[32m━━━━━━━━━━━━━━━━━━━━\u001b[0m\u001b[37m\u001b[0m \u001b[1m0s\u001b[0m 11ms/step - accuracy: 0.6773 - loss: -0.5486 - val_accuracy: 0.6333 - val_loss: -0.7278\n",
            "Epoch 34/250\n",
            "\u001b[1m4/4\u001b[0m \u001b[32m━━━━━━━━━━━━━━━━━━━━\u001b[0m\u001b[37m\u001b[0m \u001b[1m0s\u001b[0m 11ms/step - accuracy: 0.6835 - loss: -0.6516 - val_accuracy: 0.6333 - val_loss: -0.8407\n",
            "Epoch 35/250\n",
            "\u001b[1m4/4\u001b[0m \u001b[32m━━━━━━━━━━━━━━━━━━━━\u001b[0m\u001b[37m\u001b[0m \u001b[1m0s\u001b[0m 10ms/step - accuracy: 0.7169 - loss: -0.6420 - val_accuracy: 0.6333 - val_loss: -0.9578\n",
            "Epoch 36/250\n",
            "\u001b[1m4/4\u001b[0m \u001b[32m━━━━━━━━━━━━━━━━━━━━\u001b[0m\u001b[37m\u001b[0m \u001b[1m0s\u001b[0m 9ms/step - accuracy: 0.6783 - loss: -0.8852 - val_accuracy: 0.6333 - val_loss: -1.0832\n",
            "Epoch 37/250\n",
            "\u001b[1m4/4\u001b[0m \u001b[32m━━━━━━━━━━━━━━━━━━━━\u001b[0m\u001b[37m\u001b[0m \u001b[1m0s\u001b[0m 12ms/step - accuracy: 0.6690 - loss: -1.0372 - val_accuracy: 0.6333 - val_loss: -1.2150\n",
            "Epoch 38/250\n",
            "\u001b[1m4/4\u001b[0m \u001b[32m━━━━━━━━━━━━━━━━━━━━\u001b[0m\u001b[37m\u001b[0m \u001b[1m0s\u001b[0m 9ms/step - accuracy: 0.6825 - loss: -1.0845 - val_accuracy: 0.6333 - val_loss: -1.3537\n",
            "Epoch 39/250\n",
            "\u001b[1m4/4\u001b[0m \u001b[32m━━━━━━━━━━━━━━━━━━━━\u001b[0m\u001b[37m\u001b[0m \u001b[1m0s\u001b[0m 9ms/step - accuracy: 0.6690 - loss: -1.2790 - val_accuracy: 0.6333 - val_loss: -1.5027\n",
            "Epoch 40/250\n",
            "\u001b[1m4/4\u001b[0m \u001b[32m━━━━━━━━━━━━━━━━━━━━\u001b[0m\u001b[37m\u001b[0m \u001b[1m0s\u001b[0m 14ms/step - accuracy: 0.6908 - loss: -1.3315 - val_accuracy: 0.6333 - val_loss: -1.6599\n",
            "Epoch 41/250\n",
            "\u001b[1m4/4\u001b[0m \u001b[32m━━━━━━━━━━━━━━━━━━━━\u001b[0m\u001b[37m\u001b[0m \u001b[1m0s\u001b[0m 10ms/step - accuracy: 0.6565 - loss: -1.6356 - val_accuracy: 0.6333 - val_loss: -1.8295\n",
            "Epoch 42/250\n",
            "\u001b[1m4/4\u001b[0m \u001b[32m━━━━━━━━━━━━━━━━━━━━\u001b[0m\u001b[37m\u001b[0m \u001b[1m0s\u001b[0m 9ms/step - accuracy: 0.6606 - loss: -1.7659 - val_accuracy: 0.6333 - val_loss: -2.0121\n",
            "Epoch 43/250\n",
            "\u001b[1m4/4\u001b[0m \u001b[32m━━━━━━━━━━━━━━━━━━━━\u001b[0m\u001b[37m\u001b[0m \u001b[1m0s\u001b[0m 9ms/step - accuracy: 0.6544 - loss: -2.0222 - val_accuracy: 0.6333 - val_loss: -2.2084\n",
            "Epoch 44/250\n",
            "\u001b[1m4/4\u001b[0m \u001b[32m━━━━━━━━━━━━━━━━━━━━\u001b[0m\u001b[37m\u001b[0m \u001b[1m0s\u001b[0m 10ms/step - accuracy: 0.7169 - loss: -1.7484 - val_accuracy: 0.6333 - val_loss: -2.4126\n",
            "Epoch 45/250\n",
            "\u001b[1m4/4\u001b[0m \u001b[32m━━━━━━━━━━━━━━━━━━━━\u001b[0m\u001b[37m\u001b[0m \u001b[1m0s\u001b[0m 13ms/step - accuracy: 0.6700 - loss: -2.2664 - val_accuracy: 0.6333 - val_loss: -2.6419\n",
            "Epoch 46/250\n",
            "\u001b[1m4/4\u001b[0m \u001b[32m━━━━━━━━━━━━━━━━━━━━\u001b[0m\u001b[37m\u001b[0m \u001b[1m0s\u001b[0m 20ms/step - accuracy: 0.6877 - loss: -2.2997 - val_accuracy: 0.6333 - val_loss: -2.8864\n",
            "Epoch 47/250\n",
            "\u001b[1m4/4\u001b[0m \u001b[32m━━━━━━━━━━━━━━━━━━━━\u001b[0m\u001b[37m\u001b[0m \u001b[1m0s\u001b[0m 18ms/step - accuracy: 0.6846 - loss: -2.5816 - val_accuracy: 0.6333 - val_loss: -3.1541\n",
            "Epoch 48/250\n",
            "\u001b[1m4/4\u001b[0m \u001b[32m━━━━━━━━━━━━━━━━━━━━\u001b[0m\u001b[37m\u001b[0m \u001b[1m0s\u001b[0m 19ms/step - accuracy: 0.6450 - loss: -3.1649 - val_accuracy: 0.6333 - val_loss: -3.4492\n",
            "Epoch 49/250\n",
            "\u001b[1m4/4\u001b[0m \u001b[32m━━━━━━━━━━━━━━━━━━━━\u001b[0m\u001b[37m\u001b[0m \u001b[1m0s\u001b[0m 19ms/step - accuracy: 0.7096 - loss: -2.8033 - val_accuracy: 0.6333 - val_loss: -3.7596\n",
            "Epoch 50/250\n",
            "\u001b[1m4/4\u001b[0m \u001b[32m━━━━━━━━━━━━━━━━━━━━\u001b[0m\u001b[37m\u001b[0m \u001b[1m0s\u001b[0m 18ms/step - accuracy: 0.6742 - loss: -3.4812 - val_accuracy: 0.6333 - val_loss: -4.1005\n",
            "Epoch 51/250\n",
            "\u001b[1m4/4\u001b[0m \u001b[32m━━━━━━━━━━━━━━━━━━━━\u001b[0m\u001b[37m\u001b[0m \u001b[1m0s\u001b[0m 13ms/step - accuracy: 0.6783 - loss: -3.7891 - val_accuracy: 0.6333 - val_loss: -4.4736\n",
            "Epoch 52/250\n",
            "\u001b[1m4/4\u001b[0m \u001b[32m━━━━━━━━━━━━━━━━━━━━\u001b[0m\u001b[37m\u001b[0m \u001b[1m0s\u001b[0m 14ms/step - accuracy: 0.6867 - loss: -3.9175 - val_accuracy: 0.6333 - val_loss: -4.8736\n",
            "Epoch 53/250\n",
            "\u001b[1m4/4\u001b[0m \u001b[32m━━━━━━━━━━━━━━━━━━━━\u001b[0m\u001b[37m\u001b[0m \u001b[1m0s\u001b[0m 23ms/step - accuracy: 0.6815 - loss: -4.4318 - val_accuracy: 0.6333 - val_loss: -5.3114\n",
            "Epoch 54/250\n",
            "\u001b[1m4/4\u001b[0m \u001b[32m━━━━━━━━━━━━━━━━━━━━\u001b[0m\u001b[37m\u001b[0m \u001b[1m0s\u001b[0m 14ms/step - accuracy: 0.6596 - loss: -5.1274 - val_accuracy: 0.6333 - val_loss: -5.7859\n",
            "Epoch 55/250\n",
            "\u001b[1m4/4\u001b[0m \u001b[32m━━━━━━━━━━━━━━━━━━━━\u001b[0m\u001b[37m\u001b[0m \u001b[1m0s\u001b[0m 13ms/step - accuracy: 0.6575 - loss: -5.5127 - val_accuracy: 0.6333 - val_loss: -6.2939\n",
            "Epoch 56/250\n",
            "\u001b[1m4/4\u001b[0m \u001b[32m━━━━━━━━━━━━━━━━━━━━\u001b[0m\u001b[37m\u001b[0m \u001b[1m0s\u001b[0m 14ms/step - accuracy: 0.6752 - loss: -5.9122 - val_accuracy: 0.6333 - val_loss: -6.8349\n",
            "Epoch 57/250\n",
            "\u001b[1m4/4\u001b[0m \u001b[32m━━━━━━━━━━━━━━━━━━━━\u001b[0m\u001b[37m\u001b[0m \u001b[1m0s\u001b[0m 18ms/step - accuracy: 0.6794 - loss: -6.1178 - val_accuracy: 0.6333 - val_loss: -7.4145\n",
            "Epoch 58/250\n",
            "\u001b[1m4/4\u001b[0m \u001b[32m━━━━━━━━━━━━━━━━━━━━\u001b[0m\u001b[37m\u001b[0m \u001b[1m0s\u001b[0m 14ms/step - accuracy: 0.6960 - loss: -6.3387 - val_accuracy: 0.6333 - val_loss: -8.0408\n",
            "Epoch 59/250\n",
            "\u001b[1m4/4\u001b[0m \u001b[32m━━━━━━━━━━━━━━━━━━━━\u001b[0m\u001b[37m\u001b[0m \u001b[1m0s\u001b[0m 19ms/step - accuracy: 0.6762 - loss: -7.3130 - val_accuracy: 0.6333 - val_loss: -8.7233\n",
            "Epoch 60/250\n",
            "\u001b[1m4/4\u001b[0m \u001b[32m━━━━━━━━━━━━━━━━━━━━\u001b[0m\u001b[37m\u001b[0m \u001b[1m0s\u001b[0m 9ms/step - accuracy: 0.6835 - loss: -7.6410 - val_accuracy: 0.6333 - val_loss: -9.4505\n",
            "Epoch 61/250\n",
            "\u001b[1m4/4\u001b[0m \u001b[32m━━━━━━━━━━━━━━━━━━━━\u001b[0m\u001b[37m\u001b[0m \u001b[1m0s\u001b[0m 11ms/step - accuracy: 0.6690 - loss: -8.7376 - val_accuracy: 0.6333 - val_loss: -10.2338\n",
            "Epoch 62/250\n",
            "\u001b[1m4/4\u001b[0m \u001b[32m━━━━━━━━━━━━━━━━━━━━\u001b[0m\u001b[37m\u001b[0m \u001b[1m0s\u001b[0m 9ms/step - accuracy: 0.6690 - loss: -9.6844 - val_accuracy: 0.6333 - val_loss: -11.0828\n",
            "Epoch 63/250\n",
            "\u001b[1m4/4\u001b[0m \u001b[32m━━━━━━━━━━━━━━━━━━━━\u001b[0m\u001b[37m\u001b[0m \u001b[1m0s\u001b[0m 9ms/step - accuracy: 0.6773 - loss: -10.0879 - val_accuracy: 0.6333 - val_loss: -11.9782\n",
            "Epoch 64/250\n",
            "\u001b[1m4/4\u001b[0m \u001b[32m━━━━━━━━━━━━━━━━━━━━\u001b[0m\u001b[37m\u001b[0m \u001b[1m0s\u001b[0m 9ms/step - accuracy: 0.6627 - loss: -11.3505 - val_accuracy: 0.6333 - val_loss: -12.9509\n",
            "Epoch 65/250\n",
            "\u001b[1m4/4\u001b[0m \u001b[32m━━━━━━━━━━━━━━━━━━━━\u001b[0m\u001b[37m\u001b[0m \u001b[1m0s\u001b[0m 9ms/step - accuracy: 0.6908 - loss: -11.4367 - val_accuracy: 0.6333 - val_loss: -13.9759\n",
            "Epoch 66/250\n",
            "\u001b[1m4/4\u001b[0m \u001b[32m━━━━━━━━━━━━━━━━━━━━\u001b[0m\u001b[37m\u001b[0m \u001b[1m0s\u001b[0m 12ms/step - accuracy: 0.6533 - loss: -13.5319 - val_accuracy: 0.6333 - val_loss: -15.0926\n",
            "Epoch 67/250\n",
            "\u001b[1m4/4\u001b[0m \u001b[32m━━━━━━━━━━━━━━━━━━━━\u001b[0m\u001b[37m\u001b[0m \u001b[1m0s\u001b[0m 9ms/step - accuracy: 0.6940 - loss: -13.2130 - val_accuracy: 0.6333 - val_loss: -16.2628\n",
            "Epoch 68/250\n",
            "\u001b[1m4/4\u001b[0m \u001b[32m━━━━━━━━━━━━━━━━━━━━\u001b[0m\u001b[37m\u001b[0m \u001b[1m0s\u001b[0m 9ms/step - accuracy: 0.6325 - loss: -16.5645 - val_accuracy: 0.6333 - val_loss: -17.5469\n",
            "Epoch 69/250\n",
            "\u001b[1m4/4\u001b[0m \u001b[32m━━━━━━━━━━━━━━━━━━━━\u001b[0m\u001b[37m\u001b[0m \u001b[1m0s\u001b[0m 9ms/step - accuracy: 0.7033 - loss: -14.7708 - val_accuracy: 0.6333 - val_loss: -18.8755\n",
            "Epoch 70/250\n",
            "\u001b[1m4/4\u001b[0m \u001b[32m━━━━━━━━━━━━━━━━━━━━\u001b[0m\u001b[37m\u001b[0m \u001b[1m0s\u001b[0m 9ms/step - accuracy: 0.6544 - loss: -18.6093 - val_accuracy: 0.6333 - val_loss: -20.3212\n",
            "Epoch 71/250\n",
            "\u001b[1m4/4\u001b[0m \u001b[32m━━━━━━━━━━━━━━━━━━━━\u001b[0m\u001b[37m\u001b[0m \u001b[1m0s\u001b[0m 9ms/step - accuracy: 0.6867 - loss: -17.4909 - val_accuracy: 0.6333 - val_loss: -21.8263\n",
            "Epoch 72/250\n",
            "\u001b[1m4/4\u001b[0m \u001b[32m━━━━━━━━━━━━━━━━━━━━\u001b[0m\u001b[37m\u001b[0m \u001b[1m0s\u001b[0m 9ms/step - accuracy: 0.6877 - loss: -19.5655 - val_accuracy: 0.6333 - val_loss: -23.4480\n",
            "Epoch 73/250\n",
            "\u001b[1m4/4\u001b[0m \u001b[32m━━━━━━━━━━━━━━━━━━━━\u001b[0m\u001b[37m\u001b[0m \u001b[1m0s\u001b[0m 9ms/step - accuracy: 0.6731 - loss: -21.7182 - val_accuracy: 0.6333 - val_loss: -25.1772\n",
            "Epoch 74/250\n",
            "\u001b[1m4/4\u001b[0m \u001b[32m━━━━━━━━━━━━━━━━━━━━\u001b[0m\u001b[37m\u001b[0m \u001b[1m0s\u001b[0m 9ms/step - accuracy: 0.6825 - loss: -22.3712 - val_accuracy: 0.6333 - val_loss: -26.9924\n",
            "Epoch 75/250\n",
            "\u001b[1m4/4\u001b[0m \u001b[32m━━━━━━━━━━━━━━━━━━━━\u001b[0m\u001b[37m\u001b[0m \u001b[1m0s\u001b[0m 9ms/step - accuracy: 0.6825 - loss: -24.0473 - val_accuracy: 0.6333 - val_loss: -28.9023\n",
            "Epoch 76/250\n",
            "\u001b[1m4/4\u001b[0m \u001b[32m━━━━━━━━━━━━━━━━━━━━\u001b[0m\u001b[37m\u001b[0m \u001b[1m0s\u001b[0m 9ms/step - accuracy: 0.6783 - loss: -26.2446 - val_accuracy: 0.6333 - val_loss: -30.9454\n",
            "Epoch 77/250\n",
            "\u001b[1m4/4\u001b[0m \u001b[32m━━━━━━━━━━━━━━━━━━━━\u001b[0m\u001b[37m\u001b[0m \u001b[1m0s\u001b[0m 12ms/step - accuracy: 0.6731 - loss: -28.5296 - val_accuracy: 0.6333 - val_loss: -33.1069\n",
            "Epoch 78/250\n",
            "\u001b[1m4/4\u001b[0m \u001b[32m━━━━━━━━━━━━━━━━━━━━\u001b[0m\u001b[37m\u001b[0m \u001b[1m0s\u001b[0m 11ms/step - accuracy: 0.6690 - loss: -30.9025 - val_accuracy: 0.6333 - val_loss: -35.3950\n",
            "Epoch 79/250\n",
            "\u001b[1m4/4\u001b[0m \u001b[32m━━━━━━━━━━━━━━━━━━━━\u001b[0m\u001b[37m\u001b[0m \u001b[1m0s\u001b[0m 9ms/step - accuracy: 0.6481 - loss: -34.9748 - val_accuracy: 0.6333 - val_loss: -37.8290\n",
            "Epoch 80/250\n",
            "\u001b[1m4/4\u001b[0m \u001b[32m━━━━━━━━━━━━━━━━━━━━\u001b[0m\u001b[37m\u001b[0m \u001b[1m0s\u001b[0m 9ms/step - accuracy: 0.7054 - loss: -30.2646 - val_accuracy: 0.6333 - val_loss: -40.3187\n",
            "Epoch 81/250\n",
            "\u001b[1m4/4\u001b[0m \u001b[32m━━━━━━━━━━━━━━━━━━━━\u001b[0m\u001b[37m\u001b[0m \u001b[1m0s\u001b[0m 9ms/step - accuracy: 0.6533 - loss: -39.4744 - val_accuracy: 0.6333 - val_loss: -43.0326\n",
            "Epoch 82/250\n",
            "\u001b[1m4/4\u001b[0m \u001b[32m━━━━━━━━━━━━━━━━━━━━\u001b[0m\u001b[37m\u001b[0m \u001b[1m0s\u001b[0m 9ms/step - accuracy: 0.6627 - loss: -41.8763 - val_accuracy: 0.6333 - val_loss: -45.8623\n",
            "Epoch 83/250\n",
            "\u001b[1m4/4\u001b[0m \u001b[32m━━━━━━━━━━━━━━━━━━━━\u001b[0m\u001b[37m\u001b[0m \u001b[1m0s\u001b[0m 9ms/step - accuracy: 0.7075 - loss: -38.9421 - val_accuracy: 0.6333 - val_loss: -48.7629\n",
            "Epoch 84/250\n",
            "\u001b[1m4/4\u001b[0m \u001b[32m━━━━━━━━━━━━━━━━━━━━\u001b[0m\u001b[37m\u001b[0m \u001b[1m0s\u001b[0m 9ms/step - accuracy: 0.6648 - loss: -45.5343 - val_accuracy: 0.6333 - val_loss: -51.8737\n",
            "Epoch 85/250\n",
            "\u001b[1m4/4\u001b[0m \u001b[32m━━━━━━━━━━━━━━━━━━━━\u001b[0m\u001b[37m\u001b[0m \u001b[1m0s\u001b[0m 9ms/step - accuracy: 0.7148 - loss: -41.5212 - val_accuracy: 0.6333 - val_loss: -55.0403\n",
            "Epoch 86/250\n",
            "\u001b[1m4/4\u001b[0m \u001b[32m━━━━━━━━━━━━━━━━━━━━\u001b[0m\u001b[37m\u001b[0m \u001b[1m0s\u001b[0m 9ms/step - accuracy: 0.6637 - loss: -51.9845 - val_accuracy: 0.6333 - val_loss: -58.4470\n",
            "Epoch 87/250\n",
            "\u001b[1m4/4\u001b[0m \u001b[32m━━━━━━━━━━━━━━━━━━━━\u001b[0m\u001b[37m\u001b[0m \u001b[1m0s\u001b[0m 9ms/step - accuracy: 0.6658 - loss: -55.5790 - val_accuracy: 0.6333 - val_loss: -62.0137\n",
            "Epoch 88/250\n",
            "\u001b[1m4/4\u001b[0m \u001b[32m━━━━━━━━━━━━━━━━━━━━\u001b[0m\u001b[37m\u001b[0m \u001b[1m0s\u001b[0m 9ms/step - accuracy: 0.6815 - loss: -55.8498 - val_accuracy: 0.6333 - val_loss: -65.6525\n",
            "Epoch 89/250\n",
            "\u001b[1m4/4\u001b[0m \u001b[32m━━━━━━━━━━━━━━━━━━━━\u001b[0m\u001b[37m\u001b[0m \u001b[1m0s\u001b[0m 9ms/step - accuracy: 0.7096 - loss: -53.2512 - val_accuracy: 0.6333 - val_loss: -69.3351\n",
            "Epoch 90/250\n",
            "\u001b[1m4/4\u001b[0m \u001b[32m━━━━━━━━━━━━━━━━━━━━\u001b[0m\u001b[37m\u001b[0m \u001b[1m0s\u001b[0m 9ms/step - accuracy: 0.6856 - loss: -63.0219 - val_accuracy: 0.6333 - val_loss: -73.3144\n",
            "Epoch 91/250\n",
            "\u001b[1m4/4\u001b[0m \u001b[32m━━━━━━━━━━━━━━━━━━━━\u001b[0m\u001b[37m\u001b[0m \u001b[1m0s\u001b[0m 9ms/step - accuracy: 0.7335 - loss: -55.8574 - val_accuracy: 0.6333 - val_loss: -77.3316\n",
            "Epoch 92/250\n",
            "\u001b[1m4/4\u001b[0m \u001b[32m━━━━━━━━━━━━━━━━━━━━\u001b[0m\u001b[37m\u001b[0m \u001b[1m0s\u001b[0m 10ms/step - accuracy: 0.7075 - loss: -64.1913 - val_accuracy: 0.6333 - val_loss: -81.6500\n",
            "Epoch 93/250\n",
            "\u001b[1m4/4\u001b[0m \u001b[32m━━━━━━━━━━━━━━━━━━━━\u001b[0m\u001b[37m\u001b[0m \u001b[1m0s\u001b[0m 11ms/step - accuracy: 0.6898 - loss: -72.1350 - val_accuracy: 0.6333 - val_loss: -86.1563\n",
            "Epoch 94/250\n",
            "\u001b[1m4/4\u001b[0m \u001b[32m━━━━━━━━━━━━━━━━━━━━\u001b[0m\u001b[37m\u001b[0m \u001b[1m0s\u001b[0m 12ms/step - accuracy: 0.6450 - loss: -85.1754 - val_accuracy: 0.6333 - val_loss: -90.9229\n",
            "Epoch 95/250\n",
            "\u001b[1m4/4\u001b[0m \u001b[32m━━━━━━━━━━━━━━━━━━━━\u001b[0m\u001b[37m\u001b[0m \u001b[1m0s\u001b[0m 9ms/step - accuracy: 0.6856 - loss: -80.9387 - val_accuracy: 0.6333 - val_loss: -95.7384\n",
            "Epoch 96/250\n",
            "\u001b[1m4/4\u001b[0m \u001b[32m━━━━━━━━━━━━━━━━━━━━\u001b[0m\u001b[37m\u001b[0m \u001b[1m0s\u001b[0m 9ms/step - accuracy: 0.6627 - loss: -90.0057 - val_accuracy: 0.6333 - val_loss: -100.8016\n",
            "Epoch 97/250\n",
            "\u001b[1m4/4\u001b[0m \u001b[32m━━━━━━━━━━━━━━━━━━━━\u001b[0m\u001b[37m\u001b[0m \u001b[1m0s\u001b[0m 9ms/step - accuracy: 0.6783 - loss: -93.8347 - val_accuracy: 0.6333 - val_loss: -105.9748\n",
            "Epoch 98/250\n",
            "\u001b[1m4/4\u001b[0m \u001b[32m━━━━━━━━━━━━━━━━━━━━\u001b[0m\u001b[37m\u001b[0m \u001b[1m0s\u001b[0m 9ms/step - accuracy: 0.7085 - loss: -89.5751 - val_accuracy: 0.6333 - val_loss: -111.3238\n",
            "Epoch 99/250\n",
            "\u001b[1m4/4\u001b[0m \u001b[32m━━━━━━━━━━━━━━━━━━━━\u001b[0m\u001b[37m\u001b[0m \u001b[1m0s\u001b[0m 9ms/step - accuracy: 0.6398 - loss: -110.8838 - val_accuracy: 0.6333 - val_loss: -117.0328\n",
            "Epoch 100/250\n",
            "\u001b[1m4/4\u001b[0m \u001b[32m━━━━━━━━━━━━━━━━━━━━\u001b[0m\u001b[37m\u001b[0m \u001b[1m0s\u001b[0m 9ms/step - accuracy: 0.6856 - loss: -101.6837 - val_accuracy: 0.6333 - val_loss: -122.7891\n",
            "Epoch 101/250\n",
            "\u001b[1m4/4\u001b[0m \u001b[32m━━━━━━━━━━━━━━━━━━━━\u001b[0m\u001b[37m\u001b[0m \u001b[1m0s\u001b[0m 9ms/step - accuracy: 0.6971 - loss: -104.7680 - val_accuracy: 0.6333 - val_loss: -128.7374\n",
            "Epoch 102/250\n",
            "\u001b[1m4/4\u001b[0m \u001b[32m━━━━━━━━━━━━━━━━━━━━\u001b[0m\u001b[37m\u001b[0m \u001b[1m0s\u001b[0m 9ms/step - accuracy: 0.7179 - loss: -101.0393 - val_accuracy: 0.6333 - val_loss: -134.7936\n",
            "Epoch 103/250\n",
            "\u001b[1m4/4\u001b[0m \u001b[32m━━━━━━━━━━━━━━━━━━━━\u001b[0m\u001b[37m\u001b[0m \u001b[1m0s\u001b[0m 9ms/step - accuracy: 0.6398 - loss: -133.5858 - val_accuracy: 0.6333 - val_loss: -141.4014\n",
            "Epoch 104/250\n",
            "\u001b[1m4/4\u001b[0m \u001b[32m━━━━━━━━━━━━━━━━━━━━\u001b[0m\u001b[37m\u001b[0m \u001b[1m0s\u001b[0m 9ms/step - accuracy: 0.6481 - loss: -139.5683 - val_accuracy: 0.6333 - val_loss: -148.0856\n",
            "Epoch 105/250\n",
            "\u001b[1m4/4\u001b[0m \u001b[32m━━━━━━━━━━━━━━━━━━━━\u001b[0m\u001b[37m\u001b[0m \u001b[1m0s\u001b[0m 10ms/step - accuracy: 0.6575 - loss: -140.7348 - val_accuracy: 0.6333 - val_loss: -154.9081\n",
            "Epoch 106/250\n",
            "\u001b[1m4/4\u001b[0m \u001b[32m━━━━━━━━━━━━━━━━━━━━\u001b[0m\u001b[37m\u001b[0m \u001b[1m0s\u001b[0m 9ms/step - accuracy: 0.6794 - loss: -135.9926 - val_accuracy: 0.6333 - val_loss: -161.9323\n",
            "Epoch 107/250\n",
            "\u001b[1m4/4\u001b[0m \u001b[32m━━━━━━━━━━━━━━━━━━━━\u001b[0m\u001b[37m\u001b[0m \u001b[1m0s\u001b[0m 9ms/step - accuracy: 0.6835 - loss: -144.5387 - val_accuracy: 0.6333 - val_loss: -169.2835\n",
            "Epoch 108/250\n",
            "\u001b[1m4/4\u001b[0m \u001b[32m━━━━━━━━━━━━━━━━━━━━\u001b[0m\u001b[37m\u001b[0m \u001b[1m0s\u001b[0m 9ms/step - accuracy: 0.7138 - loss: -141.3684 - val_accuracy: 0.6333 - val_loss: -176.8230\n",
            "Epoch 109/250\n",
            "\u001b[1m4/4\u001b[0m \u001b[32m━━━━━━━━━━━━━━━━━━━━\u001b[0m\u001b[37m\u001b[0m \u001b[1m0s\u001b[0m 10ms/step - accuracy: 0.6533 - loss: -172.0988 - val_accuracy: 0.6333 - val_loss: -184.7768\n",
            "Epoch 110/250\n",
            "\u001b[1m4/4\u001b[0m \u001b[32m━━━━━━━━━━━━━━━━━━━━\u001b[0m\u001b[37m\u001b[0m \u001b[1m0s\u001b[0m 10ms/step - accuracy: 0.6773 - loss: -168.4263 - val_accuracy: 0.6333 - val_loss: -192.8509\n",
            "Epoch 111/250\n",
            "\u001b[1m4/4\u001b[0m \u001b[32m━━━━━━━━━━━━━━━━━━━━\u001b[0m\u001b[37m\u001b[0m \u001b[1m0s\u001b[0m 11ms/step - accuracy: 0.6294 - loss: -201.6395 - val_accuracy: 0.6333 - val_loss: -201.2805\n",
            "Epoch 112/250\n",
            "\u001b[1m4/4\u001b[0m \u001b[32m━━━━━━━━━━━━━━━━━━━━\u001b[0m\u001b[37m\u001b[0m \u001b[1m0s\u001b[0m 12ms/step - accuracy: 0.6679 - loss: -183.8173 - val_accuracy: 0.6333 - val_loss: -209.8382\n",
            "Epoch 113/250\n",
            "\u001b[1m4/4\u001b[0m \u001b[32m━━━━━━━━━━━━━━━━━━━━\u001b[0m\u001b[37m\u001b[0m \u001b[1m0s\u001b[0m 10ms/step - accuracy: 0.6752 - loss: -191.0051 - val_accuracy: 0.6333 - val_loss: -218.6959\n",
            "Epoch 114/250\n",
            "\u001b[1m4/4\u001b[0m \u001b[32m━━━━━━━━━━━━━━━━━━━━\u001b[0m\u001b[37m\u001b[0m \u001b[1m0s\u001b[0m 9ms/step - accuracy: 0.6773 - loss: -206.1590 - val_accuracy: 0.6333 - val_loss: -227.8609\n",
            "Epoch 115/250\n",
            "\u001b[1m4/4\u001b[0m \u001b[32m━━━━━━━━━━━━━━━━━━━━\u001b[0m\u001b[37m\u001b[0m \u001b[1m0s\u001b[0m 9ms/step - accuracy: 0.6158 - loss: -240.6549 - val_accuracy: 0.6333 - val_loss: -237.2947\n",
            "Epoch 116/250\n",
            "\u001b[1m4/4\u001b[0m \u001b[32m━━━━━━━━━━━━━━━━━━━━\u001b[0m\u001b[37m\u001b[0m \u001b[1m0s\u001b[0m 9ms/step - accuracy: 0.6783 - loss: -216.0719 - val_accuracy: 0.6333 - val_loss: -246.8399\n",
            "Epoch 117/250\n",
            "\u001b[1m4/4\u001b[0m \u001b[32m━━━━━━━━━━━━━━━━━━━━\u001b[0m\u001b[37m\u001b[0m \u001b[1m0s\u001b[0m 19ms/step - accuracy: 0.6575 - loss: -237.4783 - val_accuracy: 0.6333 - val_loss: -256.8021\n",
            "Epoch 118/250\n",
            "\u001b[1m4/4\u001b[0m \u001b[32m━━━━━━━━━━━━━━━━━━━━\u001b[0m\u001b[37m\u001b[0m \u001b[1m0s\u001b[0m 9ms/step - accuracy: 0.6731 - loss: -237.5533 - val_accuracy: 0.6333 - val_loss: -266.9455\n",
            "Epoch 119/250\n",
            "\u001b[1m4/4\u001b[0m \u001b[32m━━━━━━━━━━━━━━━━━━━━\u001b[0m\u001b[37m\u001b[0m \u001b[1m0s\u001b[0m 9ms/step - accuracy: 0.6804 - loss: -242.0897 - val_accuracy: 0.6333 - val_loss: -277.3749\n",
            "Epoch 120/250\n",
            "\u001b[1m4/4\u001b[0m \u001b[32m━━━━━━━━━━━━━━━━━━━━\u001b[0m\u001b[37m\u001b[0m \u001b[1m0s\u001b[0m 9ms/step - accuracy: 0.6856 - loss: -243.2568 - val_accuracy: 0.6333 - val_loss: -288.2618\n",
            "Epoch 121/250\n",
            "\u001b[1m4/4\u001b[0m \u001b[32m━━━━━━━━━━━━━━━━━━━━\u001b[0m\u001b[37m\u001b[0m \u001b[1m0s\u001b[0m 9ms/step - accuracy: 0.7096 - loss: -236.1752 - val_accuracy: 0.6333 - val_loss: -299.3120\n",
            "Epoch 122/250\n",
            "\u001b[1m4/4\u001b[0m \u001b[32m━━━━━━━━━━━━━━━━━━━━\u001b[0m\u001b[37m\u001b[0m \u001b[1m0s\u001b[0m 9ms/step - accuracy: 0.6908 - loss: -258.6616 - val_accuracy: 0.6333 - val_loss: -310.9013\n",
            "Epoch 123/250\n",
            "\u001b[1m4/4\u001b[0m \u001b[32m━━━━━━━━━━━━━━━━━━━━\u001b[0m\u001b[37m\u001b[0m \u001b[1m0s\u001b[0m 9ms/step - accuracy: 0.6481 - loss: -298.9499 - val_accuracy: 0.6333 - val_loss: -322.7029\n",
            "Epoch 124/250\n",
            "\u001b[1m4/4\u001b[0m \u001b[32m━━━━━━━━━━━━━━━━━━━━\u001b[0m\u001b[37m\u001b[0m \u001b[1m0s\u001b[0m 9ms/step - accuracy: 0.6710 - loss: -298.0926 - val_accuracy: 0.6333 - val_loss: -334.7636\n",
            "Epoch 125/250\n",
            "\u001b[1m4/4\u001b[0m \u001b[32m━━━━━━━━━━━━━━━━━━━━\u001b[0m\u001b[37m\u001b[0m \u001b[1m0s\u001b[0m 9ms/step - accuracy: 0.6710 - loss: -309.0506 - val_accuracy: 0.6333 - val_loss: -347.1732\n",
            "Epoch 126/250\n",
            "\u001b[1m4/4\u001b[0m \u001b[32m━━━━━━━━━━━━━━━━━━━━\u001b[0m\u001b[37m\u001b[0m \u001b[1m0s\u001b[0m 13ms/step - accuracy: 0.6742 - loss: -325.0373 - val_accuracy: 0.6333 - val_loss: -360.0182\n",
            "Epoch 127/250\n",
            "\u001b[1m4/4\u001b[0m \u001b[32m━━━━━━━━━━━━━━━━━━━━\u001b[0m\u001b[37m\u001b[0m \u001b[1m0s\u001b[0m 13ms/step - accuracy: 0.6596 - loss: -338.3132 - val_accuracy: 0.6333 - val_loss: -373.2264\n",
            "Epoch 128/250\n",
            "\u001b[1m4/4\u001b[0m \u001b[32m━━━━━━━━━━━━━━━━━━━━\u001b[0m\u001b[37m\u001b[0m \u001b[1m0s\u001b[0m 11ms/step - accuracy: 0.6648 - loss: -344.1573 - val_accuracy: 0.6333 - val_loss: -386.5476\n",
            "Epoch 129/250\n",
            "\u001b[1m4/4\u001b[0m \u001b[32m━━━━━━━━━━━━━━━━━━━━\u001b[0m\u001b[37m\u001b[0m \u001b[1m0s\u001b[0m 9ms/step - accuracy: 0.6856 - loss: -340.2770 - val_accuracy: 0.6333 - val_loss: -400.1270\n",
            "Epoch 130/250\n",
            "\u001b[1m4/4\u001b[0m \u001b[32m━━━━━━━━━━━━━━━━━━━━\u001b[0m\u001b[37m\u001b[0m \u001b[1m0s\u001b[0m 9ms/step - accuracy: 0.6804 - loss: -368.5294 - val_accuracy: 0.6333 - val_loss: -414.2526\n",
            "Epoch 131/250\n",
            "\u001b[1m4/4\u001b[0m \u001b[32m━━━━━━━━━━━━━━━━━━━━\u001b[0m\u001b[37m\u001b[0m \u001b[1m0s\u001b[0m 10ms/step - accuracy: 0.6544 - loss: -387.0965 - val_accuracy: 0.6333 - val_loss: -428.8710\n",
            "Epoch 132/250\n",
            "\u001b[1m4/4\u001b[0m \u001b[32m━━━━━━━━━━━━━━━━━━━━\u001b[0m\u001b[37m\u001b[0m \u001b[1m0s\u001b[0m 9ms/step - accuracy: 0.7033 - loss: -341.3912 - val_accuracy: 0.6333 - val_loss: -443.4940\n",
            "Epoch 133/250\n",
            "\u001b[1m4/4\u001b[0m \u001b[32m━━━━━━━━━━━━━━━━━━━━\u001b[0m\u001b[37m\u001b[0m \u001b[1m0s\u001b[0m 9ms/step - accuracy: 0.7231 - loss: -355.2094 - val_accuracy: 0.6333 - val_loss: -458.6256\n",
            "Epoch 134/250\n",
            "\u001b[1m4/4\u001b[0m \u001b[32m━━━━━━━━━━━━━━━━━━━━\u001b[0m\u001b[37m\u001b[0m \u001b[1m0s\u001b[0m 9ms/step - accuracy: 0.6710 - loss: -435.0208 - val_accuracy: 0.6333 - val_loss: -474.5557\n",
            "Epoch 135/250\n",
            "\u001b[1m4/4\u001b[0m \u001b[32m━━━━━━━━━━━━━━━━━━━━\u001b[0m\u001b[37m\u001b[0m \u001b[1m0s\u001b[0m 9ms/step - accuracy: 0.6846 - loss: -429.9939 - val_accuracy: 0.6333 - val_loss: -490.6873\n",
            "Epoch 136/250\n",
            "\u001b[1m4/4\u001b[0m \u001b[32m━━━━━━━━━━━━━━━━━━━━\u001b[0m\u001b[37m\u001b[0m \u001b[1m0s\u001b[0m 9ms/step - accuracy: 0.7169 - loss: -406.1112 - val_accuracy: 0.6333 - val_loss: -507.0403\n",
            "Epoch 137/250\n",
            "\u001b[1m4/4\u001b[0m \u001b[32m━━━━━━━━━━━━━━━━━━━━\u001b[0m\u001b[37m\u001b[0m \u001b[1m0s\u001b[0m 9ms/step - accuracy: 0.7085 - loss: -409.2661 - val_accuracy: 0.6333 - val_loss: -523.7593\n",
            "Epoch 138/250\n",
            "\u001b[1m4/4\u001b[0m \u001b[32m━━━━━━━━━━━━━━━━━━━━\u001b[0m\u001b[37m\u001b[0m \u001b[1m0s\u001b[0m 9ms/step - accuracy: 0.6742 - loss: -483.7161 - val_accuracy: 0.6333 - val_loss: -541.3292\n",
            "Epoch 139/250\n",
            "\u001b[1m4/4\u001b[0m \u001b[32m━━━━━━━━━━━━━━━━━━━━\u001b[0m\u001b[37m\u001b[0m \u001b[1m0s\u001b[0m 9ms/step - accuracy: 0.6981 - loss: -461.3781 - val_accuracy: 0.6333 - val_loss: -559.0749\n",
            "Epoch 140/250\n",
            "\u001b[1m4/4\u001b[0m \u001b[32m━━━━━━━━━━━━━━━━━━━━\u001b[0m\u001b[37m\u001b[0m \u001b[1m0s\u001b[0m 9ms/step - accuracy: 0.6679 - loss: -515.3249 - val_accuracy: 0.6333 - val_loss: -577.4440\n",
            "Epoch 141/250\n",
            "\u001b[1m4/4\u001b[0m \u001b[32m━━━━━━━━━━━━━━━━━━━━\u001b[0m\u001b[37m\u001b[0m \u001b[1m0s\u001b[0m 10ms/step - accuracy: 0.6460 - loss: -562.1372 - val_accuracy: 0.6333 - val_loss: -596.3004\n",
            "Epoch 142/250\n",
            "\u001b[1m4/4\u001b[0m \u001b[32m━━━━━━━━━━━━━━━━━━━━\u001b[0m\u001b[37m\u001b[0m \u001b[1m0s\u001b[0m 11ms/step - accuracy: 0.7013 - loss: -488.9606 - val_accuracy: 0.6333 - val_loss: -615.4725\n",
            "Epoch 143/250\n",
            "\u001b[1m4/4\u001b[0m \u001b[32m━━━━━━━━━━━━━━━━━━━━\u001b[0m\u001b[37m\u001b[0m \u001b[1m0s\u001b[0m 9ms/step - accuracy: 0.6742 - loss: -563.8661 - val_accuracy: 0.6333 - val_loss: -635.3886\n",
            "Epoch 144/250\n",
            "\u001b[1m4/4\u001b[0m \u001b[32m━━━━━━━━━━━━━━━━━━━━\u001b[0m\u001b[37m\u001b[0m \u001b[1m0s\u001b[0m 9ms/step - accuracy: 0.6971 - loss: -536.3824 - val_accuracy: 0.6333 - val_loss: -655.5406\n",
            "Epoch 145/250\n",
            "\u001b[1m4/4\u001b[0m \u001b[32m━━━━━━━━━━━━━━━━━━━━\u001b[0m\u001b[37m\u001b[0m \u001b[1m0s\u001b[0m 9ms/step - accuracy: 0.7044 - loss: -536.5640 - val_accuracy: 0.6333 - val_loss: -675.9568\n",
            "Epoch 146/250\n",
            "\u001b[1m4/4\u001b[0m \u001b[32m━━━━━━━━━━━━━━━━━━━━\u001b[0m\u001b[37m\u001b[0m \u001b[1m0s\u001b[0m 9ms/step - accuracy: 0.6419 - loss: -661.4202 - val_accuracy: 0.6333 - val_loss: -697.3974\n",
            "Epoch 147/250\n",
            "\u001b[1m4/4\u001b[0m \u001b[32m━━━━━━━━━━━━━━━━━━━━\u001b[0m\u001b[37m\u001b[0m \u001b[1m0s\u001b[0m 10ms/step - accuracy: 0.6544 - loss: -674.3575 - val_accuracy: 0.6333 - val_loss: -719.2286\n",
            "Epoch 148/250\n",
            "\u001b[1m4/4\u001b[0m \u001b[32m━━━━━━━━━━━━━━━━━━━━\u001b[0m\u001b[37m\u001b[0m \u001b[1m0s\u001b[0m 9ms/step - accuracy: 0.6617 - loss: -678.6169 - val_accuracy: 0.6333 - val_loss: -741.2809\n",
            "Epoch 149/250\n",
            "\u001b[1m4/4\u001b[0m \u001b[32m━━━━━━━━━━━━━━━━━━━━\u001b[0m\u001b[37m\u001b[0m \u001b[1m0s\u001b[0m 9ms/step - accuracy: 0.7106 - loss: -600.8453 - val_accuracy: 0.6333 - val_loss: -763.5008\n",
            "Epoch 150/250\n",
            "\u001b[1m4/4\u001b[0m \u001b[32m━━━━━━━━━━━━━━━━━━━━\u001b[0m\u001b[37m\u001b[0m \u001b[1m0s\u001b[0m 10ms/step - accuracy: 0.6940 - loss: -654.7182 - val_accuracy: 0.6333 - val_loss: -786.5746\n",
            "Epoch 151/250\n",
            "\u001b[1m4/4\u001b[0m \u001b[32m━━━━━━━━━━━━━━━━━━━━\u001b[0m\u001b[37m\u001b[0m \u001b[1m0s\u001b[0m 9ms/step - accuracy: 0.6742 - loss: -700.2698 - val_accuracy: 0.6333 - val_loss: -810.1511\n",
            "Epoch 152/250\n",
            "\u001b[1m4/4\u001b[0m \u001b[32m━━━━━━━━━━━━━━━━━━━━\u001b[0m\u001b[37m\u001b[0m \u001b[1m0s\u001b[0m 9ms/step - accuracy: 0.6710 - loss: -750.7302 - val_accuracy: 0.6333 - val_loss: -834.5025\n",
            "Epoch 153/250\n",
            "\u001b[1m4/4\u001b[0m \u001b[32m━━━━━━━━━━━━━━━━━━━━\u001b[0m\u001b[37m\u001b[0m \u001b[1m0s\u001b[0m 9ms/step - accuracy: 0.6460 - loss: -813.7212 - val_accuracy: 0.6333 - val_loss: -859.3080\n",
            "Epoch 154/250\n",
            "\u001b[1m4/4\u001b[0m \u001b[32m━━━━━━━━━━━━━━━━━━━━\u001b[0m\u001b[37m\u001b[0m \u001b[1m0s\u001b[0m 9ms/step - accuracy: 0.6919 - loss: -760.6659 - val_accuracy: 0.6333 - val_loss: -884.0634\n",
            "Epoch 155/250\n",
            "\u001b[1m4/4\u001b[0m \u001b[32m━━━━━━━━━━━━━━━━━━━━\u001b[0m\u001b[37m\u001b[0m \u001b[1m0s\u001b[0m 9ms/step - accuracy: 0.6648 - loss: -844.2853 - val_accuracy: 0.6333 - val_loss: -909.8776\n",
            "Epoch 156/250\n",
            "\u001b[1m4/4\u001b[0m \u001b[32m━━━━━━━━━━━━━━━━━━━━\u001b[0m\u001b[37m\u001b[0m \u001b[1m0s\u001b[0m 9ms/step - accuracy: 0.6783 - loss: -830.6949 - val_accuracy: 0.6333 - val_loss: -935.8732\n",
            "Epoch 157/250\n",
            "\u001b[1m4/4\u001b[0m \u001b[32m━━━━━━━━━━━━━━━━━━━━\u001b[0m\u001b[37m\u001b[0m \u001b[1m0s\u001b[0m 10ms/step - accuracy: 0.6960 - loss: -816.9930 - val_accuracy: 0.6333 - val_loss: -962.4092\n",
            "Epoch 158/250\n",
            "\u001b[1m4/4\u001b[0m \u001b[32m━━━━━━━━━━━━━━━━━━━━\u001b[0m\u001b[37m\u001b[0m \u001b[1m0s\u001b[0m 12ms/step - accuracy: 0.6867 - loss: -823.7820 - val_accuracy: 0.6333 - val_loss: -989.2699\n",
            "Epoch 159/250\n",
            "\u001b[1m4/4\u001b[0m \u001b[32m━━━━━━━━━━━━━━━━━━━━\u001b[0m\u001b[37m\u001b[0m \u001b[1m0s\u001b[0m 11ms/step - accuracy: 0.6846 - loss: -836.2178 - val_accuracy: 0.6333 - val_loss: -1016.8788\n",
            "Epoch 160/250\n",
            "\u001b[1m4/4\u001b[0m \u001b[32m━━━━━━━━━━━━━━━━━━━━\u001b[0m\u001b[37m\u001b[0m \u001b[1m0s\u001b[0m 12ms/step - accuracy: 0.6190 - loss: -1094.9126 - val_accuracy: 0.6333 - val_loss: -1046.4907\n",
            "Epoch 161/250\n",
            "\u001b[1m4/4\u001b[0m \u001b[32m━━━━━━━━━━━━━━━━━━━━\u001b[0m\u001b[37m\u001b[0m \u001b[1m0s\u001b[0m 9ms/step - accuracy: 0.6679 - loss: -977.5013 - val_accuracy: 0.6333 - val_loss: -1075.4083\n",
            "Epoch 162/250\n",
            "\u001b[1m4/4\u001b[0m \u001b[32m━━━━━━━━━━━━━━━━━━━━\u001b[0m\u001b[37m\u001b[0m \u001b[1m0s\u001b[0m 17ms/step - accuracy: 0.6835 - loss: -966.1674 - val_accuracy: 0.6333 - val_loss: -1105.0104\n",
            "Epoch 163/250\n",
            "\u001b[1m4/4\u001b[0m \u001b[32m━━━━━━━━━━━━━━━━━━━━\u001b[0m\u001b[37m\u001b[0m \u001b[1m0s\u001b[0m 9ms/step - accuracy: 0.6856 - loss: -972.3249 - val_accuracy: 0.6333 - val_loss: -1135.2262\n",
            "Epoch 164/250\n",
            "\u001b[1m4/4\u001b[0m \u001b[32m━━━━━━━━━━━━━━━━━━━━\u001b[0m\u001b[37m\u001b[0m \u001b[1m0s\u001b[0m 9ms/step - accuracy: 0.6637 - loss: -1078.6787 - val_accuracy: 0.6333 - val_loss: -1166.6833\n",
            "Epoch 165/250\n",
            "\u001b[1m4/4\u001b[0m \u001b[32m━━━━━━━━━━━━━━━━━━━━\u001b[0m\u001b[37m\u001b[0m \u001b[1m0s\u001b[0m 9ms/step - accuracy: 0.6617 - loss: -1090.0972 - val_accuracy: 0.6333 - val_loss: -1198.7109\n",
            "Epoch 166/250\n",
            "\u001b[1m4/4\u001b[0m \u001b[32m━━━━━━━━━━━━━━━━━━━━\u001b[0m\u001b[37m\u001b[0m \u001b[1m0s\u001b[0m 9ms/step - accuracy: 0.6752 - loss: -1069.1106 - val_accuracy: 0.6333 - val_loss: -1231.1237\n",
            "Epoch 167/250\n",
            "\u001b[1m4/4\u001b[0m \u001b[32m━━━━━━━━━━━━━━━━━━━━\u001b[0m\u001b[37m\u001b[0m \u001b[1m0s\u001b[0m 9ms/step - accuracy: 0.6450 - loss: -1208.8683 - val_accuracy: 0.6333 - val_loss: -1264.5508\n",
            "Epoch 168/250\n",
            "\u001b[1m4/4\u001b[0m \u001b[32m━━━━━━━━━━━━━━━━━━━━\u001b[0m\u001b[37m\u001b[0m \u001b[1m0s\u001b[0m 9ms/step - accuracy: 0.6731 - loss: -1191.0994 - val_accuracy: 0.6333 - val_loss: -1298.4391\n",
            "Epoch 169/250\n",
            "\u001b[1m4/4\u001b[0m \u001b[32m━━━━━━━━━━━━━━━━━━━━\u001b[0m\u001b[37m\u001b[0m \u001b[1m0s\u001b[0m 10ms/step - accuracy: 0.7002 - loss: -1066.9012 - val_accuracy: 0.6333 - val_loss: -1332.3202\n",
            "Epoch 170/250\n",
            "\u001b[1m4/4\u001b[0m \u001b[32m━━━━━━━━━━━━━━━━━━━━\u001b[0m\u001b[37m\u001b[0m \u001b[1m0s\u001b[0m 9ms/step - accuracy: 0.6669 - loss: -1213.1335 - val_accuracy: 0.6333 - val_loss: -1367.6168\n",
            "Epoch 171/250\n",
            "\u001b[1m4/4\u001b[0m \u001b[32m━━━━━━━━━━━━━━━━━━━━\u001b[0m\u001b[37m\u001b[0m \u001b[1m0s\u001b[0m 9ms/step - accuracy: 0.6565 - loss: -1292.6268 - val_accuracy: 0.6333 - val_loss: -1403.4357\n",
            "Epoch 172/250\n",
            "\u001b[1m4/4\u001b[0m \u001b[32m━━━━━━━━━━━━━━━━━━━━\u001b[0m\u001b[37m\u001b[0m \u001b[1m0s\u001b[0m 9ms/step - accuracy: 0.6742 - loss: -1260.4354 - val_accuracy: 0.6333 - val_loss: -1439.4205\n",
            "Epoch 173/250\n",
            "\u001b[1m4/4\u001b[0m \u001b[32m━━━━━━━━━━━━━━━━━━━━\u001b[0m\u001b[37m\u001b[0m \u001b[1m0s\u001b[0m 9ms/step - accuracy: 0.7210 - loss: -1126.1108 - val_accuracy: 0.6333 - val_loss: -1475.3843\n",
            "Epoch 174/250\n",
            "\u001b[1m4/4\u001b[0m \u001b[32m━━━━━━━━━━━━━━━━━━━━\u001b[0m\u001b[37m\u001b[0m \u001b[1m0s\u001b[0m 12ms/step - accuracy: 0.6585 - loss: -1406.2827 - val_accuracy: 0.6333 - val_loss: -1514.1251\n",
            "Epoch 175/250\n",
            "\u001b[1m4/4\u001b[0m \u001b[32m━━━━━━━━━━━━━━━━━━━━\u001b[0m\u001b[37m\u001b[0m \u001b[1m0s\u001b[0m 9ms/step - accuracy: 0.7179 - loss: -1184.9170 - val_accuracy: 0.6333 - val_loss: -1551.6959\n",
            "Epoch 176/250\n",
            "\u001b[1m4/4\u001b[0m \u001b[32m━━━━━━━━━━━━━━━━━━━━\u001b[0m\u001b[37m\u001b[0m \u001b[1m0s\u001b[0m 10ms/step - accuracy: 0.7127 - loss: -1261.9952 - val_accuracy: 0.6333 - val_loss: -1590.0820\n",
            "Epoch 177/250\n",
            "\u001b[1m4/4\u001b[0m \u001b[32m━━━━━━━━━━━━━━━━━━━━\u001b[0m\u001b[37m\u001b[0m \u001b[1m0s\u001b[0m 9ms/step - accuracy: 0.6815 - loss: -1408.7231 - val_accuracy: 0.6333 - val_loss: -1630.2278\n",
            "Epoch 178/250\n",
            "\u001b[1m4/4\u001b[0m \u001b[32m━━━━━━━━━━━━━━━━━━━━\u001b[0m\u001b[37m\u001b[0m \u001b[1m0s\u001b[0m 9ms/step - accuracy: 0.6815 - loss: -1455.5375 - val_accuracy: 0.6333 - val_loss: -1670.5660\n",
            "Epoch 179/250\n",
            "\u001b[1m4/4\u001b[0m \u001b[32m━━━━━━━━━━━━━━━━━━━━\u001b[0m\u001b[37m\u001b[0m \u001b[1m0s\u001b[0m 10ms/step - accuracy: 0.6502 - loss: -1644.1068 - val_accuracy: 0.6333 - val_loss: -1712.4318\n",
            "Epoch 180/250\n",
            "\u001b[1m4/4\u001b[0m \u001b[32m━━━━━━━━━━━━━━━━━━━━\u001b[0m\u001b[37m\u001b[0m \u001b[1m0s\u001b[0m 9ms/step - accuracy: 0.6721 - loss: -1536.0491 - val_accuracy: 0.6333 - val_loss: -1753.8270\n",
            "Epoch 181/250\n",
            "\u001b[1m4/4\u001b[0m \u001b[32m━━━━━━━━━━━━━━━━━━━━\u001b[0m\u001b[37m\u001b[0m \u001b[1m0s\u001b[0m 9ms/step - accuracy: 0.6867 - loss: -1509.2936 - val_accuracy: 0.6333 - val_loss: -1796.1361\n",
            "Epoch 182/250\n",
            "\u001b[1m4/4\u001b[0m \u001b[32m━━━━━━━━━━━━━━━━━━━━\u001b[0m\u001b[37m\u001b[0m \u001b[1m0s\u001b[0m 9ms/step - accuracy: 0.6815 - loss: -1588.7268 - val_accuracy: 0.6333 - val_loss: -1838.9265\n",
            "Epoch 183/250\n",
            "\u001b[1m4/4\u001b[0m \u001b[32m━━━━━━━━━━━━━━━━━━━━\u001b[0m\u001b[37m\u001b[0m \u001b[1m0s\u001b[0m 9ms/step - accuracy: 0.7148 - loss: -1476.2996 - val_accuracy: 0.6333 - val_loss: -1881.8112\n",
            "Epoch 184/250\n",
            "\u001b[1m4/4\u001b[0m \u001b[32m━━━━━━━━━━━━━━━━━━━━\u001b[0m\u001b[37m\u001b[0m \u001b[1m0s\u001b[0m 9ms/step - accuracy: 0.6846 - loss: -1662.2534 - val_accuracy: 0.6333 - val_loss: -1926.5608\n",
            "Epoch 185/250\n",
            "\u001b[1m4/4\u001b[0m \u001b[32m━━━━━━━━━━━━━━━━━━━━\u001b[0m\u001b[37m\u001b[0m \u001b[1m0s\u001b[0m 9ms/step - accuracy: 0.7096 - loss: -1525.8660 - val_accuracy: 0.6333 - val_loss: -1971.5532\n",
            "Epoch 186/250\n",
            "\u001b[1m4/4\u001b[0m \u001b[32m━━━━━━━━━━━━━━━━━━━━\u001b[0m\u001b[37m\u001b[0m \u001b[1m0s\u001b[0m 10ms/step - accuracy: 0.6502 - loss: -1915.1293 - val_accuracy: 0.6333 - val_loss: -2018.4680\n",
            "Epoch 187/250\n",
            "\u001b[1m4/4\u001b[0m \u001b[32m━━━━━━━━━━━━━━━━━━━━\u001b[0m\u001b[37m\u001b[0m \u001b[1m0s\u001b[0m 9ms/step - accuracy: 0.6596 - loss: -1933.4386 - val_accuracy: 0.6333 - val_loss: -2065.6345\n",
            "Epoch 188/250\n",
            "\u001b[1m4/4\u001b[0m \u001b[32m━━━━━━━━━━━━━━━━━━━━\u001b[0m\u001b[37m\u001b[0m \u001b[1m0s\u001b[0m 9ms/step - accuracy: 0.6835 - loss: -1821.6238 - val_accuracy: 0.6333 - val_loss: -2112.8184\n",
            "Epoch 189/250\n",
            "\u001b[1m4/4\u001b[0m \u001b[32m━━━━━━━━━━━━━━━━━━━━\u001b[0m\u001b[37m\u001b[0m \u001b[1m0s\u001b[0m 9ms/step - accuracy: 0.6950 - loss: -1751.0663 - val_accuracy: 0.6333 - val_loss: -2160.3523\n",
            "Epoch 190/250\n",
            "\u001b[1m4/4\u001b[0m \u001b[32m━━━━━━━━━━━━━━━━━━━━\u001b[0m\u001b[37m\u001b[0m \u001b[1m0s\u001b[0m 12ms/step - accuracy: 0.6919 - loss: -1944.7102 - val_accuracy: 0.6333 - val_loss: -2210.0547\n",
            "Epoch 191/250\n",
            "\u001b[1m4/4\u001b[0m \u001b[32m━━━━━━━━━━━━━━━━━━━━\u001b[0m\u001b[37m\u001b[0m \u001b[1m0s\u001b[0m 13ms/step - accuracy: 0.7002 - loss: -1848.6283 - val_accuracy: 0.6333 - val_loss: -2260.0569\n",
            "Epoch 192/250\n",
            "\u001b[1m4/4\u001b[0m \u001b[32m━━━━━━━━━━━━━━━━━━━━\u001b[0m\u001b[37m\u001b[0m \u001b[1m0s\u001b[0m 11ms/step - accuracy: 0.6721 - loss: -2064.6025 - val_accuracy: 0.6333 - val_loss: -2311.2659\n",
            "Epoch 193/250\n",
            "\u001b[1m4/4\u001b[0m \u001b[32m━━━━━━━━━━━━━━━━━━━━\u001b[0m\u001b[37m\u001b[0m \u001b[1m0s\u001b[0m 10ms/step - accuracy: 0.6669 - loss: -2143.8096 - val_accuracy: 0.6333 - val_loss: -2363.2073\n",
            "Epoch 194/250\n",
            "\u001b[1m4/4\u001b[0m \u001b[32m━━━━━━━━━━━━━━━━━━━━\u001b[0m\u001b[37m\u001b[0m \u001b[1m0s\u001b[0m 9ms/step - accuracy: 0.6731 - loss: -2185.8154 - val_accuracy: 0.6333 - val_loss: -2415.9504\n",
            "Epoch 195/250\n",
            "\u001b[1m4/4\u001b[0m \u001b[32m━━━━━━━━━━━━━━━━━━━━\u001b[0m\u001b[37m\u001b[0m \u001b[1m0s\u001b[0m 9ms/step - accuracy: 0.6471 - loss: -2395.2180 - val_accuracy: 0.6333 - val_loss: -2469.3999\n",
            "Epoch 196/250\n",
            "\u001b[1m4/4\u001b[0m \u001b[32m━━━━━━━━━━━━━━━━━━━━\u001b[0m\u001b[37m\u001b[0m \u001b[1m0s\u001b[0m 9ms/step - accuracy: 0.6835 - loss: -2134.0122 - val_accuracy: 0.6333 - val_loss: -2522.6482\n",
            "Epoch 197/250\n",
            "\u001b[1m4/4\u001b[0m \u001b[32m━━━━━━━━━━━━━━━━━━━━\u001b[0m\u001b[37m\u001b[0m \u001b[1m0s\u001b[0m 9ms/step - accuracy: 0.6783 - loss: -2249.6670 - val_accuracy: 0.6333 - val_loss: -2577.2693\n",
            "Epoch 198/250\n",
            "\u001b[1m4/4\u001b[0m \u001b[32m━━━━━━━━━━━━━━━━━━━━\u001b[0m\u001b[37m\u001b[0m \u001b[1m0s\u001b[0m 9ms/step - accuracy: 0.6762 - loss: -2270.7388 - val_accuracy: 0.6333 - val_loss: -2632.4592\n",
            "Epoch 199/250\n",
            "\u001b[1m4/4\u001b[0m \u001b[32m━━━━━━━━━━━━━━━━━━━━\u001b[0m\u001b[37m\u001b[0m \u001b[1m0s\u001b[0m 9ms/step - accuracy: 0.7085 - loss: -2152.9761 - val_accuracy: 0.6333 - val_loss: -2688.3176\n",
            "Epoch 200/250\n",
            "\u001b[1m4/4\u001b[0m \u001b[32m━━━━━━━━━━━━━━━━━━━━\u001b[0m\u001b[37m\u001b[0m \u001b[1m0s\u001b[0m 12ms/step - accuracy: 0.7210 - loss: -2096.4614 - val_accuracy: 0.6333 - val_loss: -2745.7659\n",
            "Epoch 201/250\n",
            "\u001b[1m4/4\u001b[0m \u001b[32m━━━━━━━━━━━━━━━━━━━━\u001b[0m\u001b[37m\u001b[0m \u001b[1m0s\u001b[0m 10ms/step - accuracy: 0.6992 - loss: -2324.3157 - val_accuracy: 0.6333 - val_loss: -2805.0640\n",
            "Epoch 202/250\n",
            "\u001b[1m4/4\u001b[0m \u001b[32m━━━━━━━━━━━━━━━━━━━━\u001b[0m\u001b[37m\u001b[0m \u001b[1m0s\u001b[0m 9ms/step - accuracy: 0.6346 - loss: -2842.9089 - val_accuracy: 0.6333 - val_loss: -2866.2329\n",
            "Epoch 203/250\n",
            "\u001b[1m4/4\u001b[0m \u001b[32m━━━━━━━━━━━━━━━━━━━━\u001b[0m\u001b[37m\u001b[0m \u001b[1m0s\u001b[0m 9ms/step - accuracy: 0.6565 - loss: -2716.9304 - val_accuracy: 0.6333 - val_loss: -2927.0767\n",
            "Epoch 204/250\n",
            "\u001b[1m4/4\u001b[0m \u001b[32m━━━━━━━━━━━━━━━━━━━━\u001b[0m\u001b[37m\u001b[0m \u001b[1m0s\u001b[0m 9ms/step - accuracy: 0.7190 - loss: -2255.3225 - val_accuracy: 0.6333 - val_loss: -2986.9448\n",
            "Epoch 205/250\n",
            "\u001b[1m4/4\u001b[0m \u001b[32m━━━━━━━━━━━━━━━━━━━━\u001b[0m\u001b[37m\u001b[0m \u001b[1m0s\u001b[0m 12ms/step - accuracy: 0.6700 - loss: -2721.9070 - val_accuracy: 0.6333 - val_loss: -3049.5803\n",
            "Epoch 206/250\n",
            "\u001b[1m4/4\u001b[0m \u001b[32m━━━━━━━━━━━━━━━━━━━━\u001b[0m\u001b[37m\u001b[0m \u001b[1m0s\u001b[0m 12ms/step - accuracy: 0.6971 - loss: -2535.6313 - val_accuracy: 0.6333 - val_loss: -3111.7261\n",
            "Epoch 207/250\n",
            "\u001b[1m4/4\u001b[0m \u001b[32m━━━━━━━━━━━━━━━━━━━━\u001b[0m\u001b[37m\u001b[0m \u001b[1m0s\u001b[0m 10ms/step - accuracy: 0.6523 - loss: -2969.4731 - val_accuracy: 0.6333 - val_loss: -3176.8235\n",
            "Epoch 208/250\n",
            "\u001b[1m4/4\u001b[0m \u001b[32m━━━━━━━━━━━━━━━━━━━━\u001b[0m\u001b[37m\u001b[0m \u001b[1m0s\u001b[0m 10ms/step - accuracy: 0.7002 - loss: -2646.1851 - val_accuracy: 0.6333 - val_loss: -3240.1162\n",
            "Epoch 209/250\n",
            "\u001b[1m4/4\u001b[0m \u001b[32m━━━━━━━━━━━━━━━━━━━━\u001b[0m\u001b[37m\u001b[0m \u001b[1m0s\u001b[0m 9ms/step - accuracy: 0.6940 - loss: -2656.1792 - val_accuracy: 0.6333 - val_loss: -3304.2549\n",
            "Epoch 210/250\n",
            "\u001b[1m4/4\u001b[0m \u001b[32m━━━━━━━━━━━━━━━━━━━━\u001b[0m\u001b[37m\u001b[0m \u001b[1m0s\u001b[0m 10ms/step - accuracy: 0.6898 - loss: -2818.8911 - val_accuracy: 0.6333 - val_loss: -3370.7429\n",
            "Epoch 211/250\n",
            "\u001b[1m4/4\u001b[0m \u001b[32m━━━━━━━━━━━━━━━━━━━━\u001b[0m\u001b[37m\u001b[0m \u001b[1m0s\u001b[0m 9ms/step - accuracy: 0.6398 - loss: -3393.2800 - val_accuracy: 0.6333 - val_loss: -3439.5459\n",
            "Epoch 212/250\n",
            "\u001b[1m4/4\u001b[0m \u001b[32m━━━━━━━━━━━━━━━━━━━━\u001b[0m\u001b[37m\u001b[0m \u001b[1m0s\u001b[0m 9ms/step - accuracy: 0.6492 - loss: -3357.9568 - val_accuracy: 0.6333 - val_loss: -3508.1580\n",
            "Epoch 213/250\n",
            "\u001b[1m4/4\u001b[0m \u001b[32m━━━━━━━━━━━━━━━━━━━━\u001b[0m\u001b[37m\u001b[0m \u001b[1m0s\u001b[0m 9ms/step - accuracy: 0.6648 - loss: -3301.4297 - val_accuracy: 0.6333 - val_loss: -3576.7610\n",
            "Epoch 214/250\n",
            "\u001b[1m4/4\u001b[0m \u001b[32m━━━━━━━━━━━━━━━━━━━━\u001b[0m\u001b[37m\u001b[0m \u001b[1m0s\u001b[0m 9ms/step - accuracy: 0.6460 - loss: -3553.1978 - val_accuracy: 0.6333 - val_loss: -3647.2708\n",
            "Epoch 215/250\n",
            "\u001b[1m4/4\u001b[0m \u001b[32m━━━━━━━━━━━━━━━━━━━━\u001b[0m\u001b[37m\u001b[0m \u001b[1m0s\u001b[0m 11ms/step - accuracy: 0.6544 - loss: -3521.7310 - val_accuracy: 0.6333 - val_loss: -3717.4441\n",
            "Epoch 216/250\n",
            "\u001b[1m4/4\u001b[0m \u001b[32m━━━━━━━━━━━━━━━━━━━━\u001b[0m\u001b[37m\u001b[0m \u001b[1m0s\u001b[0m 11ms/step - accuracy: 0.6690 - loss: -3441.0386 - val_accuracy: 0.6333 - val_loss: -3788.5774\n",
            "Epoch 217/250\n",
            "\u001b[1m4/4\u001b[0m \u001b[32m━━━━━━━━━━━━━━━━━━━━\u001b[0m\u001b[37m\u001b[0m \u001b[1m0s\u001b[0m 9ms/step - accuracy: 0.7023 - loss: -3157.5161 - val_accuracy: 0.6333 - val_loss: -3859.5950\n",
            "Epoch 218/250\n",
            "\u001b[1m4/4\u001b[0m \u001b[32m━━━━━━━━━━━━━━━━━━━━\u001b[0m\u001b[37m\u001b[0m \u001b[1m0s\u001b[0m 9ms/step - accuracy: 0.6585 - loss: -3658.4407 - val_accuracy: 0.6333 - val_loss: -3934.3838\n",
            "Epoch 219/250\n",
            "\u001b[1m4/4\u001b[0m \u001b[32m━━━━━━━━━━━━━━━━━━━━\u001b[0m\u001b[37m\u001b[0m \u001b[1m0s\u001b[0m 14ms/step - accuracy: 0.6565 - loss: -3767.4065 - val_accuracy: 0.6333 - val_loss: -4009.7617\n",
            "Epoch 220/250\n",
            "\u001b[1m4/4\u001b[0m \u001b[32m━━━━━━━━━━━━━━━━━━━━\u001b[0m\u001b[37m\u001b[0m \u001b[1m0s\u001b[0m 14ms/step - accuracy: 0.6242 - loss: -4185.5195 - val_accuracy: 0.6333 - val_loss: -4086.1951\n",
            "Epoch 221/250\n",
            "\u001b[1m4/4\u001b[0m \u001b[32m━━━━━━━━━━━━━━━━━━━━\u001b[0m\u001b[37m\u001b[0m \u001b[1m0s\u001b[0m 20ms/step - accuracy: 0.7065 - loss: -3297.4565 - val_accuracy: 0.6333 - val_loss: -4160.5688\n",
            "Epoch 222/250\n",
            "\u001b[1m4/4\u001b[0m \u001b[32m━━━━━━━━━━━━━━━━━━━━\u001b[0m\u001b[37m\u001b[0m \u001b[1m0s\u001b[0m 12ms/step - accuracy: 0.6304 - loss: -4265.9653 - val_accuracy: 0.6333 - val_loss: -4239.1011\n",
            "Epoch 223/250\n",
            "\u001b[1m4/4\u001b[0m \u001b[32m━━━━━━━━━━━━━━━━━━━━\u001b[0m\u001b[37m\u001b[0m \u001b[1m0s\u001b[0m 12ms/step - accuracy: 0.6919 - loss: -3567.7561 - val_accuracy: 0.6333 - val_loss: -4315.6660\n",
            "Epoch 224/250\n",
            "\u001b[1m4/4\u001b[0m \u001b[32m━━━━━━━━━━━━━━━━━━━━\u001b[0m\u001b[37m\u001b[0m \u001b[1m0s\u001b[0m 14ms/step - accuracy: 0.6617 - loss: -4075.0103 - val_accuracy: 0.6333 - val_loss: -4395.9463\n",
            "Epoch 225/250\n",
            "\u001b[1m4/4\u001b[0m \u001b[32m━━━━━━━━━━━━━━━━━━━━\u001b[0m\u001b[37m\u001b[0m \u001b[1m0s\u001b[0m 15ms/step - accuracy: 0.6044 - loss: -4967.5498 - val_accuracy: 0.6333 - val_loss: -4479.5620\n",
            "Epoch 226/250\n",
            "\u001b[1m4/4\u001b[0m \u001b[32m━━━━━━━━━━━━━━━━━━━━\u001b[0m\u001b[37m\u001b[0m \u001b[1m0s\u001b[0m 22ms/step - accuracy: 0.6825 - loss: -3858.3232 - val_accuracy: 0.6333 - val_loss: -4558.6328\n",
            "Epoch 227/250\n",
            "\u001b[1m4/4\u001b[0m \u001b[32m━━━━━━━━━━━━━━━━━━━━\u001b[0m\u001b[37m\u001b[0m \u001b[1m0s\u001b[0m 18ms/step - accuracy: 0.7044 - loss: -3858.3132 - val_accuracy: 0.6333 - val_loss: -4640.1865\n",
            "Epoch 228/250\n",
            "\u001b[1m4/4\u001b[0m \u001b[32m━━━━━━━━━━━━━━━━━━━━\u001b[0m\u001b[37m\u001b[0m \u001b[1m0s\u001b[0m 16ms/step - accuracy: 0.6575 - loss: -4399.7705 - val_accuracy: 0.6333 - val_loss: -4724.4619\n",
            "Epoch 229/250\n",
            "\u001b[1m4/4\u001b[0m \u001b[32m━━━━━━━━━━━━━━━━━━━━\u001b[0m\u001b[37m\u001b[0m \u001b[1m0s\u001b[0m 20ms/step - accuracy: 0.6398 - loss: -4807.5923 - val_accuracy: 0.6333 - val_loss: -4810.1221\n",
            "Epoch 230/250\n",
            "\u001b[1m4/4\u001b[0m \u001b[32m━━━━━━━━━━━━━━━━━━━━\u001b[0m\u001b[37m\u001b[0m \u001b[1m0s\u001b[0m 19ms/step - accuracy: 0.6971 - loss: -4107.4844 - val_accuracy: 0.6333 - val_loss: -4893.6851\n",
            "Epoch 231/250\n",
            "\u001b[1m4/4\u001b[0m \u001b[32m━━━━━━━━━━━━━━━━━━━━\u001b[0m\u001b[37m\u001b[0m \u001b[1m0s\u001b[0m 13ms/step - accuracy: 0.7033 - loss: -4076.6941 - val_accuracy: 0.6333 - val_loss: -4980.5527\n",
            "Epoch 232/250\n",
            "\u001b[1m4/4\u001b[0m \u001b[32m━━━━━━━━━━━━━━━━━━━━\u001b[0m\u001b[37m\u001b[0m \u001b[1m0s\u001b[0m 15ms/step - accuracy: 0.6575 - loss: -4889.2329 - val_accuracy: 0.6333 - val_loss: -5069.7188\n",
            "Epoch 233/250\n",
            "\u001b[1m4/4\u001b[0m \u001b[32m━━━━━━━━━━━━━━━━━━━━\u001b[0m\u001b[37m\u001b[0m \u001b[1m0s\u001b[0m 14ms/step - accuracy: 0.6690 - loss: -4517.1543 - val_accuracy: 0.6333 - val_loss: -5158.6357\n",
            "Epoch 234/250\n",
            "\u001b[1m4/4\u001b[0m \u001b[32m━━━━━━━━━━━━━━━━━━━━\u001b[0m\u001b[37m\u001b[0m \u001b[1m0s\u001b[0m 19ms/step - accuracy: 0.6762 - loss: -4529.9121 - val_accuracy: 0.6333 - val_loss: -5248.7920\n",
            "Epoch 235/250\n",
            "\u001b[1m4/4\u001b[0m \u001b[32m━━━━━━━━━━━━━━━━━━━━\u001b[0m\u001b[37m\u001b[0m \u001b[1m0s\u001b[0m 19ms/step - accuracy: 0.6742 - loss: -4711.5977 - val_accuracy: 0.6333 - val_loss: -5340.9976\n",
            "Epoch 236/250\n",
            "\u001b[1m4/4\u001b[0m \u001b[32m━━━━━━━━━━━━━━━━━━━━\u001b[0m\u001b[37m\u001b[0m \u001b[1m0s\u001b[0m 16ms/step - accuracy: 0.6627 - loss: -4899.9404 - val_accuracy: 0.6333 - val_loss: -5434.5161\n",
            "Epoch 237/250\n",
            "\u001b[1m4/4\u001b[0m \u001b[32m━━━━━━━━━━━━━━━━━━━━\u001b[0m\u001b[37m\u001b[0m \u001b[1m0s\u001b[0m 16ms/step - accuracy: 0.6648 - loss: -5061.0977 - val_accuracy: 0.6333 - val_loss: -5530.1597\n",
            "Epoch 238/250\n",
            "\u001b[1m4/4\u001b[0m \u001b[32m━━━━━━━━━━━━━━━━━━━━\u001b[0m\u001b[37m\u001b[0m \u001b[1m0s\u001b[0m 10ms/step - accuracy: 0.6929 - loss: -4635.7456 - val_accuracy: 0.6333 - val_loss: -5624.3433\n",
            "Epoch 239/250\n",
            "\u001b[1m4/4\u001b[0m \u001b[32m━━━━━━━━━━━━━━━━━━━━\u001b[0m\u001b[37m\u001b[0m \u001b[1m0s\u001b[0m 9ms/step - accuracy: 0.6523 - loss: -5588.5225 - val_accuracy: 0.6333 - val_loss: -5721.2314\n",
            "Epoch 240/250\n",
            "\u001b[1m4/4\u001b[0m \u001b[32m━━━━━━━━━━━━━━━━━━━━\u001b[0m\u001b[37m\u001b[0m \u001b[1m0s\u001b[0m 9ms/step - accuracy: 0.6408 - loss: -5703.0166 - val_accuracy: 0.6333 - val_loss: -5820.0244\n",
            "Epoch 241/250\n",
            "\u001b[1m4/4\u001b[0m \u001b[32m━━━━━━━━━━━━━━━━━━━━\u001b[0m\u001b[37m\u001b[0m \u001b[1m0s\u001b[0m 10ms/step - accuracy: 0.6898 - loss: -5096.7012 - val_accuracy: 0.6333 - val_loss: -5918.0547\n",
            "Epoch 242/250\n",
            "\u001b[1m4/4\u001b[0m \u001b[32m━━━━━━━━━━━━━━━━━━━━\u001b[0m\u001b[37m\u001b[0m \u001b[1m0s\u001b[0m 9ms/step - accuracy: 0.6846 - loss: -5159.5889 - val_accuracy: 0.6333 - val_loss: -6017.5752\n",
            "Epoch 243/250\n",
            "\u001b[1m4/4\u001b[0m \u001b[32m━━━━━━━━━━━━━━━━━━━━\u001b[0m\u001b[37m\u001b[0m \u001b[1m0s\u001b[0m 9ms/step - accuracy: 0.6658 - loss: -5691.5801 - val_accuracy: 0.6333 - val_loss: -6118.1143\n",
            "Epoch 244/250\n",
            "\u001b[1m4/4\u001b[0m \u001b[32m━━━━━━━━━━━━━━━━━━━━\u001b[0m\u001b[37m\u001b[0m \u001b[1m0s\u001b[0m 9ms/step - accuracy: 0.7023 - loss: -5028.2422 - val_accuracy: 0.6333 - val_loss: -6217.6030\n",
            "Epoch 245/250\n",
            "\u001b[1m4/4\u001b[0m \u001b[32m━━━━━━━━━━━━━━━━━━━━\u001b[0m\u001b[37m\u001b[0m \u001b[1m0s\u001b[0m 9ms/step - accuracy: 0.6596 - loss: -5854.6670 - val_accuracy: 0.6333 - val_loss: -6321.4614\n",
            "Epoch 246/250\n",
            "\u001b[1m4/4\u001b[0m \u001b[32m━━━━━━━━━━━━━━━━━━━━\u001b[0m\u001b[37m\u001b[0m \u001b[1m0s\u001b[0m 9ms/step - accuracy: 0.6575 - loss: -6076.8369 - val_accuracy: 0.6333 - val_loss: -6426.4453\n",
            "Epoch 247/250\n",
            "\u001b[1m4/4\u001b[0m \u001b[32m━━━━━━━━━━━━━━━━━━━━\u001b[0m\u001b[37m\u001b[0m \u001b[1m0s\u001b[0m 12ms/step - accuracy: 0.7013 - loss: -5463.1543 - val_accuracy: 0.6333 - val_loss: -6530.4058\n",
            "Epoch 248/250\n",
            "\u001b[1m4/4\u001b[0m \u001b[32m━━━━━━━━━━━━━━━━━━━━\u001b[0m\u001b[37m\u001b[0m \u001b[1m0s\u001b[0m 9ms/step - accuracy: 0.6783 - loss: -5790.0728 - val_accuracy: 0.6333 - val_loss: -6636.8838\n",
            "Epoch 249/250\n",
            "\u001b[1m4/4\u001b[0m \u001b[32m━━━━━━━━━━━━━━━━━━━━\u001b[0m\u001b[37m\u001b[0m \u001b[1m0s\u001b[0m 10ms/step - accuracy: 0.6210 - loss: -7096.3286 - val_accuracy: 0.6333 - val_loss: -6748.1318\n",
            "Epoch 250/250\n",
            "\u001b[1m4/4\u001b[0m \u001b[32m━━━━━━━━━━━━━━━━━━━━\u001b[0m\u001b[37m\u001b[0m \u001b[1m0s\u001b[0m 9ms/step - accuracy: 0.6575 - loss: -6390.8921 - val_accuracy: 0.6333 - val_loss: -6856.5161\n"
          ]
        },
        {
          "output_type": "execute_result",
          "data": {
            "text/plain": [
              "<keras.src.callbacks.history.History at 0x7b3f5c0a2440>"
            ]
          },
          "metadata": {},
          "execution_count": 20
        }
      ]
    },
    {
      "cell_type": "markdown",
      "source": [
        "### summary of the model"
      ],
      "metadata": {
        "id": "yYsmkiHchPRL"
      }
    },
    {
      "cell_type": "code",
      "source": [
        "model.summary()"
      ],
      "metadata": {
        "colab": {
          "base_uri": "https://localhost:8080/",
          "height": 273
        },
        "id": "NJ9hImQpeO9S",
        "outputId": "52d4ecb7-cc81-4a66-d0b7-bff362247a9c"
      },
      "execution_count": 21,
      "outputs": [
        {
          "output_type": "display_data",
          "data": {
            "text/plain": [
              "\u001b[1mModel: \"sequential_1\"\u001b[0m\n"
            ],
            "text/html": [
              "<pre style=\"white-space:pre;overflow-x:auto;line-height:normal;font-family:Menlo,'DejaVu Sans Mono',consolas,'Courier New',monospace\"><span style=\"font-weight: bold\">Model: \"sequential_1\"</span>\n",
              "</pre>\n"
            ]
          },
          "metadata": {}
        },
        {
          "output_type": "display_data",
          "data": {
            "text/plain": [
              "┏━━━━━━━━━━━━━━━━━━━━━━━━━━━━━━━━━━━━━━┳━━━━━━━━━━━━━━━━━━━━━━━━━━━━━┳━━━━━━━━━━━━━━━━━┓\n",
              "┃\u001b[1m \u001b[0m\u001b[1mLayer (type)                        \u001b[0m\u001b[1m \u001b[0m┃\u001b[1m \u001b[0m\u001b[1mOutput Shape               \u001b[0m\u001b[1m \u001b[0m┃\u001b[1m \u001b[0m\u001b[1m        Param #\u001b[0m\u001b[1m \u001b[0m┃\n",
              "┡━━━━━━━━━━━━━━━━━━━━━━━━━━━━━━━━━━━━━━╇━━━━━━━━━━━━━━━━━━━━━━━━━━━━━╇━━━━━━━━━━━━━━━━━┩\n",
              "│ dense_4 (\u001b[38;5;33mDense\u001b[0m)                      │ (\u001b[38;5;45mNone\u001b[0m, \u001b[38;5;34m10\u001b[0m)                  │              \u001b[38;5;34m50\u001b[0m │\n",
              "├──────────────────────────────────────┼─────────────────────────────┼─────────────────┤\n",
              "│ dense_5 (\u001b[38;5;33mDense\u001b[0m)                      │ (\u001b[38;5;45mNone\u001b[0m, \u001b[38;5;34m10\u001b[0m)                  │             \u001b[38;5;34m110\u001b[0m │\n",
              "├──────────────────────────────────────┼─────────────────────────────┼─────────────────┤\n",
              "│ dense_6 (\u001b[38;5;33mDense\u001b[0m)                      │ (\u001b[38;5;45mNone\u001b[0m, \u001b[38;5;34m10\u001b[0m)                  │             \u001b[38;5;34m110\u001b[0m │\n",
              "├──────────────────────────────────────┼─────────────────────────────┼─────────────────┤\n",
              "│ dense_7 (\u001b[38;5;33mDense\u001b[0m)                      │ (\u001b[38;5;45mNone\u001b[0m, \u001b[38;5;34m1\u001b[0m)                   │              \u001b[38;5;34m11\u001b[0m │\n",
              "└──────────────────────────────────────┴─────────────────────────────┴─────────────────┘\n"
            ],
            "text/html": [
              "<pre style=\"white-space:pre;overflow-x:auto;line-height:normal;font-family:Menlo,'DejaVu Sans Mono',consolas,'Courier New',monospace\">┏━━━━━━━━━━━━━━━━━━━━━━━━━━━━━━━━━━━━━━┳━━━━━━━━━━━━━━━━━━━━━━━━━━━━━┳━━━━━━━━━━━━━━━━━┓\n",
              "┃<span style=\"font-weight: bold\"> Layer (type)                         </span>┃<span style=\"font-weight: bold\"> Output Shape                </span>┃<span style=\"font-weight: bold\">         Param # </span>┃\n",
              "┡━━━━━━━━━━━━━━━━━━━━━━━━━━━━━━━━━━━━━━╇━━━━━━━━━━━━━━━━━━━━━━━━━━━━━╇━━━━━━━━━━━━━━━━━┩\n",
              "│ dense_4 (<span style=\"color: #0087ff; text-decoration-color: #0087ff\">Dense</span>)                      │ (<span style=\"color: #00d7ff; text-decoration-color: #00d7ff\">None</span>, <span style=\"color: #00af00; text-decoration-color: #00af00\">10</span>)                  │              <span style=\"color: #00af00; text-decoration-color: #00af00\">50</span> │\n",
              "├──────────────────────────────────────┼─────────────────────────────┼─────────────────┤\n",
              "│ dense_5 (<span style=\"color: #0087ff; text-decoration-color: #0087ff\">Dense</span>)                      │ (<span style=\"color: #00d7ff; text-decoration-color: #00d7ff\">None</span>, <span style=\"color: #00af00; text-decoration-color: #00af00\">10</span>)                  │             <span style=\"color: #00af00; text-decoration-color: #00af00\">110</span> │\n",
              "├──────────────────────────────────────┼─────────────────────────────┼─────────────────┤\n",
              "│ dense_6 (<span style=\"color: #0087ff; text-decoration-color: #0087ff\">Dense</span>)                      │ (<span style=\"color: #00d7ff; text-decoration-color: #00d7ff\">None</span>, <span style=\"color: #00af00; text-decoration-color: #00af00\">10</span>)                  │             <span style=\"color: #00af00; text-decoration-color: #00af00\">110</span> │\n",
              "├──────────────────────────────────────┼─────────────────────────────┼─────────────────┤\n",
              "│ dense_7 (<span style=\"color: #0087ff; text-decoration-color: #0087ff\">Dense</span>)                      │ (<span style=\"color: #00d7ff; text-decoration-color: #00d7ff\">None</span>, <span style=\"color: #00af00; text-decoration-color: #00af00\">1</span>)                   │              <span style=\"color: #00af00; text-decoration-color: #00af00\">11</span> │\n",
              "└──────────────────────────────────────┴─────────────────────────────┴─────────────────┘\n",
              "</pre>\n"
            ]
          },
          "metadata": {}
        },
        {
          "output_type": "display_data",
          "data": {
            "text/plain": [
              "\u001b[1m Total params: \u001b[0m\u001b[38;5;34m845\u001b[0m (3.30 KB)\n"
            ],
            "text/html": [
              "<pre style=\"white-space:pre;overflow-x:auto;line-height:normal;font-family:Menlo,'DejaVu Sans Mono',consolas,'Courier New',monospace\"><span style=\"font-weight: bold\"> Total params: </span><span style=\"color: #00af00; text-decoration-color: #00af00\">845</span> (3.30 KB)\n",
              "</pre>\n"
            ]
          },
          "metadata": {}
        },
        {
          "output_type": "display_data",
          "data": {
            "text/plain": [
              "\u001b[1m Trainable params: \u001b[0m\u001b[38;5;34m281\u001b[0m (1.10 KB)\n"
            ],
            "text/html": [
              "<pre style=\"white-space:pre;overflow-x:auto;line-height:normal;font-family:Menlo,'DejaVu Sans Mono',consolas,'Courier New',monospace\"><span style=\"font-weight: bold\"> Trainable params: </span><span style=\"color: #00af00; text-decoration-color: #00af00\">281</span> (1.10 KB)\n",
              "</pre>\n"
            ]
          },
          "metadata": {}
        },
        {
          "output_type": "display_data",
          "data": {
            "text/plain": [
              "\u001b[1m Non-trainable params: \u001b[0m\u001b[38;5;34m0\u001b[0m (0.00 B)\n"
            ],
            "text/html": [
              "<pre style=\"white-space:pre;overflow-x:auto;line-height:normal;font-family:Menlo,'DejaVu Sans Mono',consolas,'Courier New',monospace\"><span style=\"font-weight: bold\"> Non-trainable params: </span><span style=\"color: #00af00; text-decoration-color: #00af00\">0</span> (0.00 B)\n",
              "</pre>\n"
            ]
          },
          "metadata": {}
        },
        {
          "output_type": "display_data",
          "data": {
            "text/plain": [
              "\u001b[1m Optimizer params: \u001b[0m\u001b[38;5;34m564\u001b[0m (2.21 KB)\n"
            ],
            "text/html": [
              "<pre style=\"white-space:pre;overflow-x:auto;line-height:normal;font-family:Menlo,'DejaVu Sans Mono',consolas,'Courier New',monospace\"><span style=\"font-weight: bold\"> Optimizer params: </span><span style=\"color: #00af00; text-decoration-color: #00af00\">564</span> (2.21 KB)\n",
              "</pre>\n"
            ]
          },
          "metadata": {}
        }
      ]
    },
    {
      "cell_type": "markdown",
      "source": [
        "### evaluating the model"
      ],
      "metadata": {
        "id": "Z86W2seahSYB"
      }
    },
    {
      "cell_type": "code",
      "source": [
        "test_loss, test_acc = model.evaluate(x_test, y_test)\n",
        "print('Test accuracy:', test_acc)"
      ],
      "metadata": {
        "colab": {
          "base_uri": "https://localhost:8080/"
        },
        "id": "FAWjo7jEfHe-",
        "outputId": "e93e9238-3fdd-4677-ca74-5215ff48c1e0"
      },
      "execution_count": 22,
      "outputs": [
        {
          "output_type": "stream",
          "name": "stdout",
          "text": [
            "\u001b[1m1/1\u001b[0m \u001b[32m━━━━━━━━━━━━━━━━━━━━\u001b[0m\u001b[37m\u001b[0m \u001b[1m0s\u001b[0m 27ms/step - accuracy: 0.6333 - loss: -6856.5166\n",
            "Test accuracy: 0.6333333253860474\n"
          ]
        }
      ]
    },
    {
      "cell_type": "code",
      "source": [],
      "metadata": {
        "id": "76UATskufnlA"
      },
      "execution_count": 22,
      "outputs": []
    }
  ]
}