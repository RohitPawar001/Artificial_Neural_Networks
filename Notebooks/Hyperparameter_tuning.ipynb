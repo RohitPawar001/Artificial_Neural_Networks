{
  "nbformat": 4,
  "nbformat_minor": 0,
  "metadata": {
    "colab": {
      "provenance": [],
      "gpuType": "T4"
    },
    "kernelspec": {
      "name": "python3",
      "display_name": "Python 3"
    },
    "language_info": {
      "name": "python"
    },
    "accelerator": "GPU"
  },
  "cells": [
    {
      "cell_type": "markdown",
      "source": [
        "# HYPERPARAMETER TUNING A NEURAL NETWORK"
      ],
      "metadata": {
        "id": "5G5F8nD-Cl-l"
      }
    },
    {
      "cell_type": "markdown",
      "source": [
        "## 1. hyperparameter tuning\n",
        "\n",
        "Hyperparameter tuning it is an way of optimizing the models parameters so as to it will has a minimun error and maximum accuracy.\n",
        "\n",
        "There are various parameter of the neural network which we can hyperparameter tunned some of them are as follows,\n",
        "\n",
        "\n",
        "*   Learning Rate\n",
        "*   No of hidden layers\n",
        "*   batch size\n",
        "*   optimizers\n",
        "*   no. of epochs\n",
        "\n",
        "## 2. implementetions\n",
        "  \n",
        "  for hyperparameter tuning we are using the keras tuner\n",
        "  1. import necessary libraries\n",
        "  2. independent and dependent feature split\n",
        "  3. hyperparameter tuning\n",
        "  4. train test split\n",
        "  5. train the hyperparameter tunned model\n",
        "\n"
      ],
      "metadata": {
        "id": "a3ma-0VPCveN"
      }
    },
    {
      "cell_type": "markdown",
      "source": [
        "## 3. problem statement\n",
        "\n",
        "optimize the models parameters so as to it will have the minimum error and maximum accuracy by using the hyperparameter tuning."
      ],
      "metadata": {
        "id": "LY0UMPsyFxpZ"
      }
    },
    {
      "cell_type": "markdown",
      "source": [
        "# Implementations"
      ],
      "metadata": {
        "id": "14cT4GhSGN9T"
      }
    },
    {
      "cell_type": "code",
      "execution_count": 5,
      "metadata": {
        "id": "3s2b_ErhCbhD"
      },
      "outputs": [],
      "source": [
        "# importing libraries\n",
        "import pandas as pd\n",
        "from tensorflow import keras\n",
        "from tensorflow.keras import layers\n",
        "from keras_tuner import RandomSearch\n",
        "from sklearn.model_selection import train_test_split"
      ]
    },
    {
      "cell_type": "code",
      "source": [
        "data = pd.read_csv(\"manufacturing.csv\")"
      ],
      "metadata": {
        "id": "tHdqi5ugHBqJ"
      },
      "execution_count": 6,
      "outputs": []
    },
    {
      "cell_type": "code",
      "source": [
        "data.head()"
      ],
      "metadata": {
        "colab": {
          "base_uri": "https://localhost:8080/",
          "height": 206
        },
        "id": "oLWxzXWzHXZ2",
        "outputId": "f47f44c5-5490-473f-c685-d5a591db296b"
      },
      "execution_count": 7,
      "outputs": [
        {
          "output_type": "execute_result",
          "data": {
            "text/plain": [
              "   Temperature (°C)  Pressure (kPa)  ...  Material Transformation Metric  Quality Rating\n",
              "0        209.762701        8.050855  ...                    9.229576e+06       99.999971\n",
              "1        243.037873       15.812068  ...                    1.435537e+07       99.985703\n",
              "2        220.552675        7.843130  ...                    1.072839e+07       99.999758\n",
              "3        208.976637       23.786089  ...                    9.125702e+06       99.999975\n",
              "4        184.730960       15.797812  ...                    6.303792e+06      100.000000\n",
              "\n",
              "[5 rows x 6 columns]"
            ],
            "text/html": [
              "\n",
              "  <div id=\"df-32f45c19-b185-43b0-a299-ccd248dfe8d8\" class=\"colab-df-container\">\n",
              "    <div>\n",
              "<style scoped>\n",
              "    .dataframe tbody tr th:only-of-type {\n",
              "        vertical-align: middle;\n",
              "    }\n",
              "\n",
              "    .dataframe tbody tr th {\n",
              "        vertical-align: top;\n",
              "    }\n",
              "\n",
              "    .dataframe thead th {\n",
              "        text-align: right;\n",
              "    }\n",
              "</style>\n",
              "<table border=\"1\" class=\"dataframe\">\n",
              "  <thead>\n",
              "    <tr style=\"text-align: right;\">\n",
              "      <th></th>\n",
              "      <th>Temperature (°C)</th>\n",
              "      <th>Pressure (kPa)</th>\n",
              "      <th>Temperature x Pressure</th>\n",
              "      <th>Material Fusion Metric</th>\n",
              "      <th>Material Transformation Metric</th>\n",
              "      <th>Quality Rating</th>\n",
              "    </tr>\n",
              "  </thead>\n",
              "  <tbody>\n",
              "    <tr>\n",
              "      <th>0</th>\n",
              "      <td>209.762701</td>\n",
              "      <td>8.050855</td>\n",
              "      <td>1688.769167</td>\n",
              "      <td>44522.217074</td>\n",
              "      <td>9.229576e+06</td>\n",
              "      <td>99.999971</td>\n",
              "    </tr>\n",
              "    <tr>\n",
              "      <th>1</th>\n",
              "      <td>243.037873</td>\n",
              "      <td>15.812068</td>\n",
              "      <td>3842.931469</td>\n",
              "      <td>63020.764997</td>\n",
              "      <td>1.435537e+07</td>\n",
              "      <td>99.985703</td>\n",
              "    </tr>\n",
              "    <tr>\n",
              "      <th>2</th>\n",
              "      <td>220.552675</td>\n",
              "      <td>7.843130</td>\n",
              "      <td>1729.823314</td>\n",
              "      <td>49125.950249</td>\n",
              "      <td>1.072839e+07</td>\n",
              "      <td>99.999758</td>\n",
              "    </tr>\n",
              "    <tr>\n",
              "      <th>3</th>\n",
              "      <td>208.976637</td>\n",
              "      <td>23.786089</td>\n",
              "      <td>4970.736918</td>\n",
              "      <td>57128.881547</td>\n",
              "      <td>9.125702e+06</td>\n",
              "      <td>99.999975</td>\n",
              "    </tr>\n",
              "    <tr>\n",
              "      <th>4</th>\n",
              "      <td>184.730960</td>\n",
              "      <td>15.797812</td>\n",
              "      <td>2918.345014</td>\n",
              "      <td>38068.201283</td>\n",
              "      <td>6.303792e+06</td>\n",
              "      <td>100.000000</td>\n",
              "    </tr>\n",
              "  </tbody>\n",
              "</table>\n",
              "</div>\n",
              "    <div class=\"colab-df-buttons\">\n",
              "\n",
              "  <div class=\"colab-df-container\">\n",
              "    <button class=\"colab-df-convert\" onclick=\"convertToInteractive('df-32f45c19-b185-43b0-a299-ccd248dfe8d8')\"\n",
              "            title=\"Convert this dataframe to an interactive table.\"\n",
              "            style=\"display:none;\">\n",
              "\n",
              "  <svg xmlns=\"http://www.w3.org/2000/svg\" height=\"24px\" viewBox=\"0 -960 960 960\">\n",
              "    <path d=\"M120-120v-720h720v720H120Zm60-500h600v-160H180v160Zm220 220h160v-160H400v160Zm0 220h160v-160H400v160ZM180-400h160v-160H180v160Zm440 0h160v-160H620v160ZM180-180h160v-160H180v160Zm440 0h160v-160H620v160Z\"/>\n",
              "  </svg>\n",
              "    </button>\n",
              "\n",
              "  <style>\n",
              "    .colab-df-container {\n",
              "      display:flex;\n",
              "      gap: 12px;\n",
              "    }\n",
              "\n",
              "    .colab-df-convert {\n",
              "      background-color: #E8F0FE;\n",
              "      border: none;\n",
              "      border-radius: 50%;\n",
              "      cursor: pointer;\n",
              "      display: none;\n",
              "      fill: #1967D2;\n",
              "      height: 32px;\n",
              "      padding: 0 0 0 0;\n",
              "      width: 32px;\n",
              "    }\n",
              "\n",
              "    .colab-df-convert:hover {\n",
              "      background-color: #E2EBFA;\n",
              "      box-shadow: 0px 1px 2px rgba(60, 64, 67, 0.3), 0px 1px 3px 1px rgba(60, 64, 67, 0.15);\n",
              "      fill: #174EA6;\n",
              "    }\n",
              "\n",
              "    .colab-df-buttons div {\n",
              "      margin-bottom: 4px;\n",
              "    }\n",
              "\n",
              "    [theme=dark] .colab-df-convert {\n",
              "      background-color: #3B4455;\n",
              "      fill: #D2E3FC;\n",
              "    }\n",
              "\n",
              "    [theme=dark] .colab-df-convert:hover {\n",
              "      background-color: #434B5C;\n",
              "      box-shadow: 0px 1px 3px 1px rgba(0, 0, 0, 0.15);\n",
              "      filter: drop-shadow(0px 1px 2px rgba(0, 0, 0, 0.3));\n",
              "      fill: #FFFFFF;\n",
              "    }\n",
              "  </style>\n",
              "\n",
              "    <script>\n",
              "      const buttonEl =\n",
              "        document.querySelector('#df-32f45c19-b185-43b0-a299-ccd248dfe8d8 button.colab-df-convert');\n",
              "      buttonEl.style.display =\n",
              "        google.colab.kernel.accessAllowed ? 'block' : 'none';\n",
              "\n",
              "      async function convertToInteractive(key) {\n",
              "        const element = document.querySelector('#df-32f45c19-b185-43b0-a299-ccd248dfe8d8');\n",
              "        const dataTable =\n",
              "          await google.colab.kernel.invokeFunction('convertToInteractive',\n",
              "                                                    [key], {});\n",
              "        if (!dataTable) return;\n",
              "\n",
              "        const docLinkHtml = 'Like what you see? Visit the ' +\n",
              "          '<a target=\"_blank\" href=https://colab.research.google.com/notebooks/data_table.ipynb>data table notebook</a>'\n",
              "          + ' to learn more about interactive tables.';\n",
              "        element.innerHTML = '';\n",
              "        dataTable['output_type'] = 'display_data';\n",
              "        await google.colab.output.renderOutput(dataTable, element);\n",
              "        const docLink = document.createElement('div');\n",
              "        docLink.innerHTML = docLinkHtml;\n",
              "        element.appendChild(docLink);\n",
              "      }\n",
              "    </script>\n",
              "  </div>\n",
              "\n",
              "\n",
              "<div id=\"df-4b71ad84-9550-4899-80bd-2ef9615c3aad\">\n",
              "  <button class=\"colab-df-quickchart\" onclick=\"quickchart('df-4b71ad84-9550-4899-80bd-2ef9615c3aad')\"\n",
              "            title=\"Suggest charts\"\n",
              "            style=\"display:none;\">\n",
              "\n",
              "<svg xmlns=\"http://www.w3.org/2000/svg\" height=\"24px\"viewBox=\"0 0 24 24\"\n",
              "     width=\"24px\">\n",
              "    <g>\n",
              "        <path d=\"M19 3H5c-1.1 0-2 .9-2 2v14c0 1.1.9 2 2 2h14c1.1 0 2-.9 2-2V5c0-1.1-.9-2-2-2zM9 17H7v-7h2v7zm4 0h-2V7h2v10zm4 0h-2v-4h2v4z\"/>\n",
              "    </g>\n",
              "</svg>\n",
              "  </button>\n",
              "\n",
              "<style>\n",
              "  .colab-df-quickchart {\n",
              "      --bg-color: #E8F0FE;\n",
              "      --fill-color: #1967D2;\n",
              "      --hover-bg-color: #E2EBFA;\n",
              "      --hover-fill-color: #174EA6;\n",
              "      --disabled-fill-color: #AAA;\n",
              "      --disabled-bg-color: #DDD;\n",
              "  }\n",
              "\n",
              "  [theme=dark] .colab-df-quickchart {\n",
              "      --bg-color: #3B4455;\n",
              "      --fill-color: #D2E3FC;\n",
              "      --hover-bg-color: #434B5C;\n",
              "      --hover-fill-color: #FFFFFF;\n",
              "      --disabled-bg-color: #3B4455;\n",
              "      --disabled-fill-color: #666;\n",
              "  }\n",
              "\n",
              "  .colab-df-quickchart {\n",
              "    background-color: var(--bg-color);\n",
              "    border: none;\n",
              "    border-radius: 50%;\n",
              "    cursor: pointer;\n",
              "    display: none;\n",
              "    fill: var(--fill-color);\n",
              "    height: 32px;\n",
              "    padding: 0;\n",
              "    width: 32px;\n",
              "  }\n",
              "\n",
              "  .colab-df-quickchart:hover {\n",
              "    background-color: var(--hover-bg-color);\n",
              "    box-shadow: 0 1px 2px rgba(60, 64, 67, 0.3), 0 1px 3px 1px rgba(60, 64, 67, 0.15);\n",
              "    fill: var(--button-hover-fill-color);\n",
              "  }\n",
              "\n",
              "  .colab-df-quickchart-complete:disabled,\n",
              "  .colab-df-quickchart-complete:disabled:hover {\n",
              "    background-color: var(--disabled-bg-color);\n",
              "    fill: var(--disabled-fill-color);\n",
              "    box-shadow: none;\n",
              "  }\n",
              "\n",
              "  .colab-df-spinner {\n",
              "    border: 2px solid var(--fill-color);\n",
              "    border-color: transparent;\n",
              "    border-bottom-color: var(--fill-color);\n",
              "    animation:\n",
              "      spin 1s steps(1) infinite;\n",
              "  }\n",
              "\n",
              "  @keyframes spin {\n",
              "    0% {\n",
              "      border-color: transparent;\n",
              "      border-bottom-color: var(--fill-color);\n",
              "      border-left-color: var(--fill-color);\n",
              "    }\n",
              "    20% {\n",
              "      border-color: transparent;\n",
              "      border-left-color: var(--fill-color);\n",
              "      border-top-color: var(--fill-color);\n",
              "    }\n",
              "    30% {\n",
              "      border-color: transparent;\n",
              "      border-left-color: var(--fill-color);\n",
              "      border-top-color: var(--fill-color);\n",
              "      border-right-color: var(--fill-color);\n",
              "    }\n",
              "    40% {\n",
              "      border-color: transparent;\n",
              "      border-right-color: var(--fill-color);\n",
              "      border-top-color: var(--fill-color);\n",
              "    }\n",
              "    60% {\n",
              "      border-color: transparent;\n",
              "      border-right-color: var(--fill-color);\n",
              "    }\n",
              "    80% {\n",
              "      border-color: transparent;\n",
              "      border-right-color: var(--fill-color);\n",
              "      border-bottom-color: var(--fill-color);\n",
              "    }\n",
              "    90% {\n",
              "      border-color: transparent;\n",
              "      border-bottom-color: var(--fill-color);\n",
              "    }\n",
              "  }\n",
              "</style>\n",
              "\n",
              "  <script>\n",
              "    async function quickchart(key) {\n",
              "      const quickchartButtonEl =\n",
              "        document.querySelector('#' + key + ' button');\n",
              "      quickchartButtonEl.disabled = true;  // To prevent multiple clicks.\n",
              "      quickchartButtonEl.classList.add('colab-df-spinner');\n",
              "      try {\n",
              "        const charts = await google.colab.kernel.invokeFunction(\n",
              "            'suggestCharts', [key], {});\n",
              "      } catch (error) {\n",
              "        console.error('Error during call to suggestCharts:', error);\n",
              "      }\n",
              "      quickchartButtonEl.classList.remove('colab-df-spinner');\n",
              "      quickchartButtonEl.classList.add('colab-df-quickchart-complete');\n",
              "    }\n",
              "    (() => {\n",
              "      let quickchartButtonEl =\n",
              "        document.querySelector('#df-4b71ad84-9550-4899-80bd-2ef9615c3aad button');\n",
              "      quickchartButtonEl.style.display =\n",
              "        google.colab.kernel.accessAllowed ? 'block' : 'none';\n",
              "    })();\n",
              "  </script>\n",
              "</div>\n",
              "\n",
              "    </div>\n",
              "  </div>\n"
            ],
            "application/vnd.google.colaboratory.intrinsic+json": {
              "type": "dataframe",
              "variable_name": "data",
              "summary": "{\n  \"name\": \"data\",\n  \"rows\": 3957,\n  \"fields\": [\n    {\n      \"column\": \"Temperature (\\u00b0C)\",\n      \"properties\": {\n        \"dtype\": \"number\",\n        \"std\": 58.1357170656567,\n        \"min\": 100.01448992769843,\n        \"max\": 299.99280370852046,\n        \"num_unique_values\": 3957,\n        \"samples\": [\n          299.7694013135733,\n          269.6690539580012,\n          276.2133225353017\n        ],\n        \"semantic_type\": \"\",\n        \"description\": \"\"\n      }\n    },\n    {\n      \"column\": \"Pressure (kPa)\",\n      \"properties\": {\n        \"dtype\": \"number\",\n        \"std\": 5.772040390730769,\n        \"min\": 5.00300762161711,\n        \"max\": 24.9991322551545,\n        \"num_unique_values\": 3957,\n        \"samples\": [\n          17.08098847536339,\n          9.618071555078032,\n          11.99466526841742\n        ],\n        \"semantic_type\": \"\",\n        \"description\": \"\"\n      }\n    },\n    {\n      \"column\": \"Temperature x Pressure\",\n      \"properties\": {\n        \"dtype\": \"number\",\n        \"std\": 1458.224939756113,\n        \"min\": 513.7068753136383,\n        \"max\": 7365.018713896319,\n        \"num_unique_values\": 3957,\n        \"samples\": [\n          5120.357689103729,\n          2593.6962571582544,\n          3313.086346488362\n        ],\n        \"semantic_type\": \"\",\n        \"description\": \"\"\n      }\n    },\n    {\n      \"column\": \"Material Fusion Metric\",\n      \"properties\": {\n        \"dtype\": \"number\",\n        \"std\": 23812.21351281599,\n        \"min\": 10156.97195548127,\n        \"max\": 103756.18154356792,\n        \"num_unique_values\": 3957,\n        \"samples\": [\n          94845.24601904264,\n          73611.14049758893,\n          78019.4959663321\n        ],\n        \"semantic_type\": \"\",\n        \"description\": \"\"\n      }\n    },\n    {\n      \"column\": \"Material Transformation Metric\",\n      \"properties\": {\n        \"dtype\": \"number\",\n        \"std\": 7599356.035237991,\n        \"min\": 999946.2218441456,\n        \"max\": 26997826.131342944,\n        \"num_unique_values\": 3957,\n        \"samples\": [\n          26937494.440414004,\n          19610618.272546463,\n          21073219.98944545\n        ],\n        \"semantic_type\": \"\",\n        \"description\": \"\"\n      }\n    },\n    {\n      \"column\": \"Quality Rating\",\n      \"properties\": {\n        \"dtype\": \"number\",\n        \"std\": 12.992262454287115,\n        \"min\": 1.0,\n        \"max\": 100.0,\n        \"num_unique_values\": 3187,\n        \"samples\": [\n          99.99999999996204,\n          19.33926503326776,\n          99.99999999979144\n        ],\n        \"semantic_type\": \"\",\n        \"description\": \"\"\n      }\n    }\n  ]\n}"
            }
          },
          "metadata": {},
          "execution_count": 7
        }
      ]
    },
    {
      "cell_type": "code",
      "source": [
        "data.isnull().sum()"
      ],
      "metadata": {
        "colab": {
          "base_uri": "https://localhost:8080/",
          "height": 272
        },
        "id": "8UmT12OZHgmg",
        "outputId": "221cf306-4498-4c4b-8279-4a1328fa217f"
      },
      "execution_count": 9,
      "outputs": [
        {
          "output_type": "execute_result",
          "data": {
            "text/plain": [
              "Temperature (°C)                  0\n",
              "Pressure (kPa)                    0\n",
              "Temperature x Pressure            0\n",
              "Material Fusion Metric            0\n",
              "Material Transformation Metric    0\n",
              "Quality Rating                    0\n",
              "dtype: int64"
            ],
            "text/html": [
              "<div>\n",
              "<style scoped>\n",
              "    .dataframe tbody tr th:only-of-type {\n",
              "        vertical-align: middle;\n",
              "    }\n",
              "\n",
              "    .dataframe tbody tr th {\n",
              "        vertical-align: top;\n",
              "    }\n",
              "\n",
              "    .dataframe thead th {\n",
              "        text-align: right;\n",
              "    }\n",
              "</style>\n",
              "<table border=\"1\" class=\"dataframe\">\n",
              "  <thead>\n",
              "    <tr style=\"text-align: right;\">\n",
              "      <th></th>\n",
              "      <th>0</th>\n",
              "    </tr>\n",
              "  </thead>\n",
              "  <tbody>\n",
              "    <tr>\n",
              "      <th>Temperature (°C)</th>\n",
              "      <td>0</td>\n",
              "    </tr>\n",
              "    <tr>\n",
              "      <th>Pressure (kPa)</th>\n",
              "      <td>0</td>\n",
              "    </tr>\n",
              "    <tr>\n",
              "      <th>Temperature x Pressure</th>\n",
              "      <td>0</td>\n",
              "    </tr>\n",
              "    <tr>\n",
              "      <th>Material Fusion Metric</th>\n",
              "      <td>0</td>\n",
              "    </tr>\n",
              "    <tr>\n",
              "      <th>Material Transformation Metric</th>\n",
              "      <td>0</td>\n",
              "    </tr>\n",
              "    <tr>\n",
              "      <th>Quality Rating</th>\n",
              "      <td>0</td>\n",
              "    </tr>\n",
              "  </tbody>\n",
              "</table>\n",
              "</div><br><label><b>dtype:</b> int64</label>"
            ]
          },
          "metadata": {},
          "execution_count": 9
        }
      ]
    },
    {
      "cell_type": "code",
      "source": [
        "# dependent and independent feature split\n",
        "x = data.iloc[:,:-1]\n",
        "y = data.iloc[:,-1]"
      ],
      "metadata": {
        "id": "jO_7kxQWIZfi"
      },
      "execution_count": 10,
      "outputs": []
    },
    {
      "cell_type": "markdown",
      "source": [
        "**hyperparameter tuning**"
      ],
      "metadata": {
        "id": "pCu5-6LrIdHT"
      }
    },
    {
      "cell_type": "code",
      "source": [
        "def build_model(hp):\n",
        "  model = keras.Sequential()\n",
        "  for i in range(hp.Int(\"num_layers\",2,20)):\n",
        "    model.add(layers.Dense(units=hp.Int(\"units_\"+str(i),\n",
        "                                        min_value=32,\n",
        "                                        max_value=512,\n",
        "                                        step=32),\n",
        "                           activation=\"relu\"))\n",
        "  model.add(layers.Dense(1,activation=\"linear\"))\n",
        "  model.compile(\n",
        "      optimizer=keras.optimizers.Adam(hp.Choice(\"learning_rate\",\n",
        "       [1e-2,1e-3,1e-4])),\n",
        "      loss=\"mean_absolute_error\",\n",
        "      metrics=[\"mean_absolute_error\"])\n",
        "  return model"
      ],
      "metadata": {
        "id": "8xH30dJyIaDS"
      },
      "execution_count": 19,
      "outputs": []
    },
    {
      "cell_type": "code",
      "source": [
        "tuner = RandomSearch(\n",
        "    build_model,\n",
        "    objective=\"val_mean_absolute_error\",\n",
        "    max_trials=5,\n",
        "    executions_per_trial=3,\n",
        "    directory=\"project\",\n",
        "    project_name=\"Neural Networks\"\n",
        ")"
      ],
      "metadata": {
        "id": "fw5suafhLAhW"
      },
      "execution_count": 20,
      "outputs": []
    },
    {
      "cell_type": "code",
      "source": [
        "tuner.search_space_summary()"
      ],
      "metadata": {
        "colab": {
          "base_uri": "https://localhost:8080/"
        },
        "id": "mJ_qmGy4LBFr",
        "outputId": "f01e3cda-294c-469e-98ab-39e54fc2c751"
      },
      "execution_count": 22,
      "outputs": [
        {
          "output_type": "stream",
          "name": "stdout",
          "text": [
            "Search space summary\n",
            "Default search space size: 4\n",
            "num_layers (Int)\n",
            "{'default': None, 'conditions': [], 'min_value': 2, 'max_value': 20, 'step': 1, 'sampling': 'linear'}\n",
            "units_0 (Int)\n",
            "{'default': None, 'conditions': [], 'min_value': 32, 'max_value': 512, 'step': 32, 'sampling': 'linear'}\n",
            "units_1 (Int)\n",
            "{'default': None, 'conditions': [], 'min_value': 32, 'max_value': 512, 'step': 32, 'sampling': 'linear'}\n",
            "learning_rate (Choice)\n",
            "{'default': 0.01, 'conditions': [], 'values': [0.01, 0.001, 0.0001], 'ordered': True}\n"
          ]
        }
      ]
    },
    {
      "cell_type": "code",
      "source": [
        "# train test split\n",
        "x_train,x_test,y_train,y_test = train_test_split(x,y,test_size=0.2,random_state=42)"
      ],
      "metadata": {
        "id": "VPSmrghlLpne"
      },
      "execution_count": 24,
      "outputs": []
    },
    {
      "cell_type": "code",
      "source": [
        "tuner.search(x_train,\n",
        "             y_train,\n",
        "             epochs=5,\n",
        "             validation_data=(x_test,y_test))"
      ],
      "metadata": {
        "colab": {
          "base_uri": "https://localhost:8080/"
        },
        "id": "OD04TlaKL8RF",
        "outputId": "ac1892af-b44d-4ca2-fd86-60cec8d5ff05"
      },
      "execution_count": 25,
      "outputs": [
        {
          "output_type": "stream",
          "name": "stdout",
          "text": [
            "Trial 5 Complete [00h 00m 31s]\n",
            "val_mean_absolute_error: 64.30694961547852\n",
            "\n",
            "Best val_mean_absolute_error So Far: 57.54414367675781\n",
            "Total elapsed time: 00h 03m 23s\n"
          ]
        }
      ]
    },
    {
      "cell_type": "code",
      "source": [
        "tuner.results_summary()"
      ],
      "metadata": {
        "colab": {
          "base_uri": "https://localhost:8080/"
        },
        "id": "2I2KFAqhMHJI",
        "outputId": "d7c7962c-4471-49f9-a683-0eae644fc17e"
      },
      "execution_count": 27,
      "outputs": [
        {
          "output_type": "stream",
          "name": "stdout",
          "text": [
            "Results summary\n",
            "Results in project/Neural Networks\n",
            "Showing 10 best trials\n",
            "Objective(name=\"val_mean_absolute_error\", direction=\"min\")\n",
            "\n",
            "Trial 2 summary\n",
            "Hyperparameters:\n",
            "num_layers: 19\n",
            "units_0: 288\n",
            "units_1: 352\n",
            "learning_rate: 0.0001\n",
            "units_2: 192\n",
            "units_3: 64\n",
            "units_4: 288\n",
            "units_5: 512\n",
            "units_6: 448\n",
            "units_7: 448\n",
            "units_8: 96\n",
            "units_9: 512\n",
            "units_10: 32\n",
            "units_11: 512\n",
            "units_12: 96\n",
            "units_13: 480\n",
            "units_14: 32\n",
            "units_15: 32\n",
            "units_16: 32\n",
            "units_17: 32\n",
            "units_18: 32\n",
            "Score: 57.54414367675781\n",
            "\n",
            "Trial 0 summary\n",
            "Hyperparameters:\n",
            "num_layers: 14\n",
            "units_0: 160\n",
            "units_1: 512\n",
            "learning_rate: 0.0001\n",
            "units_2: 32\n",
            "units_3: 32\n",
            "units_4: 32\n",
            "units_5: 32\n",
            "units_6: 32\n",
            "units_7: 32\n",
            "units_8: 32\n",
            "units_9: 32\n",
            "units_10: 32\n",
            "units_11: 32\n",
            "units_12: 32\n",
            "units_13: 32\n",
            "Score: 58.41871007283529\n",
            "\n",
            "Trial 4 summary\n",
            "Hyperparameters:\n",
            "num_layers: 9\n",
            "units_0: 32\n",
            "units_1: 64\n",
            "learning_rate: 0.001\n",
            "units_2: 96\n",
            "units_3: 256\n",
            "units_4: 416\n",
            "units_5: 128\n",
            "units_6: 32\n",
            "units_7: 32\n",
            "units_8: 256\n",
            "units_9: 320\n",
            "units_10: 512\n",
            "units_11: 384\n",
            "units_12: 224\n",
            "units_13: 512\n",
            "units_14: 448\n",
            "units_15: 416\n",
            "units_16: 224\n",
            "units_17: 64\n",
            "units_18: 64\n",
            "Score: 64.30694961547852\n",
            "\n",
            "Trial 3 summary\n",
            "Hyperparameters:\n",
            "num_layers: 10\n",
            "units_0: 96\n",
            "units_1: 416\n",
            "learning_rate: 0.0001\n",
            "units_2: 416\n",
            "units_3: 288\n",
            "units_4: 256\n",
            "units_5: 224\n",
            "units_6: 256\n",
            "units_7: 192\n",
            "units_8: 448\n",
            "units_9: 288\n",
            "units_10: 96\n",
            "units_11: 352\n",
            "units_12: 192\n",
            "units_13: 192\n",
            "units_14: 480\n",
            "units_15: 288\n",
            "units_16: 64\n",
            "units_17: 192\n",
            "units_18: 256\n",
            "Score: 362.3104654947917\n",
            "\n",
            "Trial 1 summary\n",
            "Hyperparameters:\n",
            "num_layers: 6\n",
            "units_0: 32\n",
            "units_1: 512\n",
            "learning_rate: 0.0001\n",
            "units_2: 224\n",
            "units_3: 448\n",
            "units_4: 160\n",
            "units_5: 384\n",
            "units_6: 96\n",
            "units_7: 480\n",
            "units_8: 256\n",
            "units_9: 448\n",
            "units_10: 352\n",
            "units_11: 512\n",
            "units_12: 256\n",
            "units_13: 224\n",
            "Score: 1449.6166585286458\n"
          ]
        }
      ]
    },
    {
      "cell_type": "code",
      "source": [],
      "metadata": {
        "id": "d_osPCa1OW6z"
      },
      "execution_count": null,
      "outputs": []
    }
  ]
}