{
 "cells": [
  {
   "cell_type": "code",
   "execution_count": 2,
   "id": "032fbb78-d3a6-4ae6-83e9-8dc0f46e391b",
   "metadata": {},
   "outputs": [],
   "source": [
    "import os\n",
    "import shutil\n",
    "from sklearn.model_selection import train_test_split\n"
   ]
  },
  {
   "cell_type": "code",
   "execution_count": 5,
   "id": "f19b7e7b-047c-4680-9a27-ab49206cb40d",
   "metadata": {},
   "outputs": [],
   "source": [
    "base_dir = \"D:\\\\New folder\\\\archive (2)\\\\catvsdog\\\\PetImages\"\n",
    "cat_dir = os.path.join(base_dir, 'Cat')\n",
    "dog_dir = os.path.join(base_dir, 'Dog')\n"
   ]
  },
  {
   "cell_type": "code",
   "execution_count": 6,
   "id": "f2f42364-1474-4f6e-92d8-70643586489c",
   "metadata": {},
   "outputs": [],
   "source": [
    "# Directories for train, test, validation splits\n",
    "for split in ['train', 'test', 'validation']:\n",
    "    for category in ['Cat', 'Dog']:\n",
    "        os.makedirs(os.path.join(base_dir, split, category), exist_ok=True)\n"
   ]
  },
  {
   "cell_type": "code",
   "execution_count": 7,
   "id": "98141103-837a-42fc-9edb-4e5359586dbb",
   "metadata": {},
   "outputs": [],
   "source": [
    "cat_files = [os.path.join(cat_dir, file) for file in os.listdir(cat_dir)]\n",
    "dog_files = [os.path.join(dog_dir, file) for file in os.listdir(dog_dir)]\n"
   ]
  },
  {
   "cell_type": "code",
   "execution_count": 8,
   "id": "86ea2d10-5ae1-40f2-a889-a526b2dccb6c",
   "metadata": {},
   "outputs": [],
   "source": [
    "train_cat, temp_cat = train_test_split(cat_files, test_size=0.4, random_state=42)\n",
    "test_cat, val_cat = train_test_split(temp_cat, test_size=0.5, random_state=42)\n",
    "\n",
    "train_dog, temp_dog = train_test_split(dog_files, test_size=0.4, random_state=42)\n",
    "test_dog, val_dog = train_test_split(temp_dog, test_size=0.5, random_state=42)\n"
   ]
  },
  {
   "cell_type": "code",
   "execution_count": 9,
   "id": "0d78e963-74ba-4bb6-bd95-d374b8dc37ee",
   "metadata": {},
   "outputs": [],
   "source": [
    "def copy_files(file_list, split, category):\n",
    "    for file in file_list:\n",
    "        dest = os.path.join(base_dir, split, category, os.path.basename(file))\n",
    "        shutil.copyfile(file, dest)\n",
    "\n",
    "\n",
    "copy_files(train_cat, 'train', 'cat')\n",
    "copy_files(test_cat, 'test', 'cat')\n",
    "copy_files(val_cat, 'validation', 'cat')\n",
    "\n",
    "\n",
    "copy_files(train_dog, 'train', 'dog')\n",
    "copy_files(test_dog, 'test', 'dog')\n",
    "copy_files(val_dog, 'validation', 'dog')\n"
   ]
  },
  {
   "cell_type": "code",
   "execution_count": 11,
   "id": "da0914dc-a4be-4774-9b31-ad969ad8ba2c",
   "metadata": {},
   "outputs": [
    {
     "name": "stdout",
     "output_type": "stream",
     "text": [
      "Removed 0 corrupted images from D:\\New folder\\archive (2)\\catvsdog\\PetImages\\train/cat\n",
      "Removing corrupted file: D:\\New folder\\archive (2)\\catvsdog\\PetImages\\train/dog\\11702.jpg\n",
      "Removed 1 corrupted images from D:\\New folder\\archive (2)\\catvsdog\\PetImages\\train/dog\n",
      "Removed 0 corrupted images from D:\\New folder\\archive (2)\\catvsdog\\PetImages\\validation/cat\n",
      "Removed 0 corrupted images from D:\\New folder\\archive (2)\\catvsdog\\PetImages\\validation/dog\n",
      "Removing corrupted file: D:\\New folder\\archive (2)\\catvsdog\\PetImages\\test/cat\\666.jpg\n",
      "Removing corrupted file: D:\\New folder\\archive (2)\\catvsdog\\PetImages\\test/cat\\Thumbs.db\n",
      "Removed 2 corrupted images from D:\\New folder\\archive (2)\\catvsdog\\PetImages\\test/cat\n",
      "Removing corrupted file: D:\\New folder\\archive (2)\\catvsdog\\PetImages\\test/dog\\Thumbs.db\n",
      "Removed 1 corrupted images from D:\\New folder\\archive (2)\\catvsdog\\PetImages\\test/dog\n"
     ]
    }
   ],
   "source": [
    "import os\n",
    "from PIL import Image\n",
    "\n",
    "def remove_corrupted_images(directory):\n",
    "    num_corrupted = 0\n",
    "    for filename in os.listdir(directory):\n",
    "        file_path = os.path.join(directory, filename)\n",
    "        try:\n",
    "            img = Image.open(file_path)\n",
    "            img.verify()  \n",
    "        except (IOError, SyntaxError) as e:\n",
    "            print(f\"Removing corrupted file: {file_path}\")\n",
    "            os.remove(file_path)\n",
    "            num_corrupted += 1\n",
    "    print(f\"Removed {num_corrupted} corrupted images from {directory}\")\n",
    "\n",
    "base_dir = \"D:\\\\New folder\\\\archive (2)\\\\catvsdog\\\\PetImages\"\n",
    "categories = ['train/cat', 'train/dog', 'validation/cat', 'validation/dog', 'test/cat', 'test/dog']\n",
    "\n",
    "for category in categories:\n",
    "    directory = os.path.join(base_dir, category)\n",
    "    remove_corrupted_images(directory)\n"
   ]
  },
  {
   "cell_type": "code",
   "execution_count": 6,
   "id": "cac17909-d93c-49f9-a4e6-3993e443b83b",
   "metadata": {},
   "outputs": [
    {
     "name": "stdout",
     "output_type": "stream",
     "text": [
      "Found 14999 images belonging to 2 classes.\n",
      "Found 5002 images belonging to 2 classes.\n",
      "Found 4997 images belonging to 2 classes.\n"
     ]
    }
   ],
   "source": [
    "import os\n",
    "import tensorflow as tf\n",
    "from tensorflow.keras.preprocessing.image import ImageDataGenerator\n",
    "\n",
    "\n",
    "base_dir = \"D:\\\\New folder\\\\archive (2)\\\\catvsdog\\\\PetImages\"\n",
    "train_dir = os.path.join(base_dir, 'train')\n",
    "validation_dir = os.path.join(base_dir, 'validation')\n",
    "test_dir = os.path.join(base_dir, 'test')\n",
    "\n",
    "\n",
    "train_datagen = ImageDataGenerator(\n",
    "    rescale=1./255,\n",
    "    rotation_range=40,\n",
    "    width_shift_range=0.2,\n",
    "    height_shift_range=0.2,\n",
    "    shear_range=0.2,\n",
    "    zoom_range=0.2,\n",
    "    horizontal_flip=True,\n",
    "    fill_mode='nearest'\n",
    ")\n",
    "\n",
    "validation_datagen = ImageDataGenerator(rescale=1./255)\n",
    "test_datagen = ImageDataGenerator(rescale=1./255)\n",
    "\n",
    "\n",
    "train_generator = train_datagen.flow_from_directory(\n",
    "    train_dir,\n",
    "    target_size=(150, 150),\n",
    "    batch_size=20,\n",
    "    class_mode='binary'\n",
    ")\n",
    "\n",
    "validation_generator = validation_datagen.flow_from_directory(\n",
    "    validation_dir,\n",
    "    target_size=(150, 150),\n",
    "    batch_size=20,\n",
    "    class_mode='binary'\n",
    ")\n",
    "\n",
    "test_generator = test_datagen.flow_from_directory(\n",
    "    test_dir,\n",
    "    target_size=(150, 150),\n",
    "    batch_size=20,\n",
    "    class_mode='binary'\n",
    ")\n",
    "\n",
    "\n"
   ]
  },
  {
   "cell_type": "code",
   "execution_count": 7,
   "id": "c0aef028-b9b9-4134-aede-bb22a2a9a039",
   "metadata": {},
   "outputs": [
    {
     "name": "stdout",
     "output_type": "stream",
     "text": [
      "Found 14999 images belonging to 2 classes.\n",
      "Found 5002 images belonging to 2 classes.\n",
      "Found 4997 images belonging to 2 classes.\n"
     ]
    }
   ],
   "source": [
    "import os\n",
    "import tensorflow as tf\n",
    "from tensorflow.keras.preprocessing.image import ImageDataGenerator\n",
    "\n",
    "\n",
    "base_dir = \"D:\\\\New folder\\\\archive (2)\\\\catvsdog\\\\PetImages\"\n",
    "train_dir = os.path.join(base_dir, 'train')\n",
    "validation_dir = os.path.join(base_dir, 'validation')\n",
    "test_dir = os.path.join(base_dir, 'test')\n",
    "\n",
    "\n",
    "train_datagen = ImageDataGenerator(\n",
    "    rescale=1./255,\n",
    "    rotation_range=40,\n",
    "    width_shift_range=0.2,\n",
    "    height_shift_range=0.2,\n",
    "    shear_range=0.2,\n",
    "    zoom_range=0.2,\n",
    "    horizontal_flip=True,\n",
    "    fill_mode='nearest'\n",
    ")\n",
    "\n",
    "validation_datagen = ImageDataGenerator(rescale=1./255)\n",
    "test_datagen = ImageDataGenerator(rescale=1./255)\n",
    "\n",
    "train_generator = train_datagen.flow_from_directory(\n",
    "    train_dir,\n",
    "    target_size=(150, 150),\n",
    "    batch_size=20,\n",
    "    class_mode='binary'\n",
    ")\n",
    "\n",
    "validation_generator = validation_datagen.flow_from_directory(\n",
    "    validation_dir,\n",
    "    target_size=(150, 150),\n",
    "    batch_size=20,\n",
    "    class_mode='binary'\n",
    ")\n",
    "\n",
    "test_generator = test_datagen.flow_from_directory(\n",
    "    test_dir,\n",
    "    target_size=(150, 150),\n",
    "    batch_size=20,\n",
    "    class_mode='binary'\n",
    ")\n",
    "\n",
    "\n"
   ]
  },
  {
   "cell_type": "code",
   "execution_count": 8,
   "id": "840cb880-2422-4066-bbeb-72cd6213f066",
   "metadata": {
    "scrolled": true
   },
   "outputs": [
    {
     "name": "stdout",
     "output_type": "stream",
     "text": [
      "input_layer_2 False\n",
      "block1_conv1 False\n",
      "block1_conv1_bn False\n",
      "block1_conv1_act False\n",
      "block1_conv2 False\n",
      "block1_conv2_bn False\n",
      "block1_conv2_act False\n",
      "block2_sepconv1 False\n",
      "block2_sepconv1_bn False\n",
      "block2_sepconv2_act False\n",
      "block2_sepconv2 False\n",
      "block2_sepconv2_bn False\n",
      "conv2d_4 False\n",
      "block2_pool False\n",
      "batch_normalization_4 False\n",
      "add_12 False\n",
      "block3_sepconv1_act False\n",
      "block3_sepconv1 False\n",
      "block3_sepconv1_bn False\n",
      "block3_sepconv2_act False\n",
      "block3_sepconv2 False\n",
      "block3_sepconv2_bn False\n",
      "conv2d_5 False\n",
      "block3_pool False\n",
      "batch_normalization_5 False\n",
      "add_13 False\n",
      "block4_sepconv1_act False\n",
      "block4_sepconv1 False\n",
      "block4_sepconv1_bn False\n",
      "block4_sepconv2_act False\n",
      "block4_sepconv2 False\n",
      "block4_sepconv2_bn False\n",
      "conv2d_6 False\n",
      "block4_pool False\n",
      "batch_normalization_6 False\n",
      "add_14 False\n",
      "block5_sepconv1_act False\n",
      "block5_sepconv1 False\n",
      "block5_sepconv1_bn False\n",
      "block5_sepconv2_act False\n",
      "block5_sepconv2 False\n",
      "block5_sepconv2_bn False\n",
      "block5_sepconv3_act False\n",
      "block5_sepconv3 False\n",
      "block5_sepconv3_bn False\n",
      "add_15 False\n",
      "block6_sepconv1_act False\n",
      "block6_sepconv1 False\n",
      "block6_sepconv1_bn False\n",
      "block6_sepconv2_act False\n",
      "block6_sepconv2 False\n",
      "block6_sepconv2_bn False\n",
      "block6_sepconv3_act False\n",
      "block6_sepconv3 False\n",
      "block6_sepconv3_bn False\n",
      "add_16 False\n",
      "block7_sepconv1_act False\n",
      "block7_sepconv1 False\n",
      "block7_sepconv1_bn False\n",
      "block7_sepconv2_act False\n",
      "block7_sepconv2 False\n",
      "block7_sepconv2_bn False\n",
      "block7_sepconv3_act False\n",
      "block7_sepconv3 False\n",
      "block7_sepconv3_bn False\n",
      "add_17 False\n",
      "block8_sepconv1_act False\n",
      "block8_sepconv1 False\n",
      "block8_sepconv1_bn False\n",
      "block8_sepconv2_act False\n",
      "block8_sepconv2 False\n",
      "block8_sepconv2_bn False\n",
      "block8_sepconv3_act False\n",
      "block8_sepconv3 False\n",
      "block8_sepconv3_bn False\n",
      "add_18 False\n",
      "block9_sepconv1_act False\n",
      "block9_sepconv1 False\n",
      "block9_sepconv1_bn False\n",
      "block9_sepconv2_act False\n",
      "block9_sepconv2 False\n",
      "block9_sepconv2_bn False\n",
      "block9_sepconv3_act False\n",
      "block9_sepconv3 False\n",
      "block9_sepconv3_bn False\n",
      "add_19 False\n",
      "block10_sepconv1_act False\n",
      "block10_sepconv1 False\n",
      "block10_sepconv1_bn False\n",
      "block10_sepconv2_act False\n",
      "block10_sepconv2 False\n",
      "block10_sepconv2_bn False\n",
      "block10_sepconv3_act False\n",
      "block10_sepconv3 False\n",
      "block10_sepconv3_bn False\n",
      "add_20 False\n",
      "block11_sepconv1_act False\n",
      "block11_sepconv1 False\n",
      "block11_sepconv1_bn False\n",
      "block11_sepconv2_act False\n",
      "block11_sepconv2 False\n",
      "block11_sepconv2_bn False\n",
      "block11_sepconv3_act False\n",
      "block11_sepconv3 False\n",
      "block11_sepconv3_bn False\n",
      "add_21 False\n",
      "block12_sepconv1_act False\n",
      "block12_sepconv1 False\n",
      "block12_sepconv1_bn False\n",
      "block12_sepconv2_act False\n",
      "block12_sepconv2 False\n",
      "block12_sepconv2_bn False\n",
      "block12_sepconv3_act False\n",
      "block12_sepconv3 False\n",
      "block12_sepconv3_bn False\n",
      "add_22 False\n",
      "block13_sepconv1_act False\n",
      "block13_sepconv1 False\n",
      "block13_sepconv1_bn False\n",
      "block13_sepconv2_act False\n",
      "block13_sepconv2 False\n",
      "block13_sepconv2_bn False\n",
      "conv2d_7 False\n",
      "block13_pool False\n",
      "batch_normalization_7 False\n",
      "add_23 False\n",
      "block14_sepconv1 True\n",
      "block14_sepconv1_bn True\n",
      "block14_sepconv1_act True\n",
      "block14_sepconv2 True\n",
      "block14_sepconv2_bn True\n",
      "block14_sepconv2_act True\n"
     ]
    }
   ],
   "source": [
    "from tensorflow.keras.layers import Flatten, Dense\n",
    "from tensorflow.keras.models import Sequential\n",
    "from tensorflow.keras.applications import Xception\n",
    "\n",
    "conv_base = Xception(\n",
    "    weights='imagenet',\n",
    "    include_top=False,\n",
    "    input_shape=(150, 150, 3)\n",
    ")\n",
    "\n",
    "\n",
    "\n",
    "conv_base.trainable = True\n",
    "\n",
    "set_trainable = False\n",
    "\n",
    "\n",
    "for layer in conv_base.layers:\n",
    "    if \"block14\" in layer.name:\n",
    "        set_trainable = True\n",
    "    if set_trainable:\n",
    "        layer.trainable = True\n",
    "\n",
    "    else:\n",
    "        layer.trainable = False\n",
    "\n",
    "\n",
    "for layer in conv_base.layers:\n",
    "    print(layer.name, layer.trainable)\n",
    "    \n",
    "\n"
   ]
  },
  {
   "cell_type": "code",
   "execution_count": 9,
   "id": "8187678a-f509-473d-95f4-bf257efc3685",
   "metadata": {},
   "outputs": [],
   "source": [
    "model = Sequential()\n",
    "\n",
    "model.add(conv_base)\n",
    "model.add(Flatten())\n",
    "model.add(Dense(256,activation=\"relu\"))\n",
    "model.add(Dense(128,activation=\"relu\"))\n",
    "model.add(Dense(1,activation=\"sigmoid\"))\n",
    "\n",
    "model.compile(optimizer=\"adam\",loss='binary_crossentropy',metrics=[\"accuracy\"])"
   ]
  },
  {
   "cell_type": "code",
   "execution_count": 10,
   "id": "8328591b-388c-43c1-8db2-a32f3de711da",
   "metadata": {},
   "outputs": [
    {
     "data": {
      "text/html": [
       "<pre style=\"white-space:pre;overflow-x:auto;line-height:normal;font-family:Menlo,'DejaVu Sans Mono',consolas,'Courier New',monospace\"><span style=\"font-weight: bold\">Model: \"sequential_1\"</span>\n",
       "</pre>\n"
      ],
      "text/plain": [
       "\u001b[1mModel: \"sequential_1\"\u001b[0m\n"
      ]
     },
     "metadata": {},
     "output_type": "display_data"
    },
    {
     "data": {
      "text/html": [
       "<pre style=\"white-space:pre;overflow-x:auto;line-height:normal;font-family:Menlo,'DejaVu Sans Mono',consolas,'Courier New',monospace\">┏━━━━━━━━━━━━━━━━━━━━━━━━━━━━━━━━━━━━━━┳━━━━━━━━━━━━━━━━━━━━━━━━━━━━━┳━━━━━━━━━━━━━━━━━┓\n",
       "┃<span style=\"font-weight: bold\"> Layer (type)                         </span>┃<span style=\"font-weight: bold\"> Output Shape                </span>┃<span style=\"font-weight: bold\">         Param # </span>┃\n",
       "┡━━━━━━━━━━━━━━━━━━━━━━━━━━━━━━━━━━━━━━╇━━━━━━━━━━━━━━━━━━━━━━━━━━━━━╇━━━━━━━━━━━━━━━━━┩\n",
       "│ xception (<span style=\"color: #0087ff; text-decoration-color: #0087ff\">Functional</span>)                │ (<span style=\"color: #00d7ff; text-decoration-color: #00d7ff\">None</span>, <span style=\"color: #00af00; text-decoration-color: #00af00\">5</span>, <span style=\"color: #00af00; text-decoration-color: #00af00\">5</span>, <span style=\"color: #00af00; text-decoration-color: #00af00\">2048</span>)          │      <span style=\"color: #00af00; text-decoration-color: #00af00\">20,861,480</span> │\n",
       "├──────────────────────────────────────┼─────────────────────────────┼─────────────────┤\n",
       "│ flatten_1 (<span style=\"color: #0087ff; text-decoration-color: #0087ff\">Flatten</span>)                  │ (<span style=\"color: #00d7ff; text-decoration-color: #00d7ff\">None</span>, <span style=\"color: #00af00; text-decoration-color: #00af00\">51200</span>)               │               <span style=\"color: #00af00; text-decoration-color: #00af00\">0</span> │\n",
       "├──────────────────────────────────────┼─────────────────────────────┼─────────────────┤\n",
       "│ dense_3 (<span style=\"color: #0087ff; text-decoration-color: #0087ff\">Dense</span>)                      │ (<span style=\"color: #00d7ff; text-decoration-color: #00d7ff\">None</span>, <span style=\"color: #00af00; text-decoration-color: #00af00\">256</span>)                 │      <span style=\"color: #00af00; text-decoration-color: #00af00\">13,107,456</span> │\n",
       "├──────────────────────────────────────┼─────────────────────────────┼─────────────────┤\n",
       "│ dense_4 (<span style=\"color: #0087ff; text-decoration-color: #0087ff\">Dense</span>)                      │ (<span style=\"color: #00d7ff; text-decoration-color: #00d7ff\">None</span>, <span style=\"color: #00af00; text-decoration-color: #00af00\">128</span>)                 │          <span style=\"color: #00af00; text-decoration-color: #00af00\">32,896</span> │\n",
       "├──────────────────────────────────────┼─────────────────────────────┼─────────────────┤\n",
       "│ dense_5 (<span style=\"color: #0087ff; text-decoration-color: #0087ff\">Dense</span>)                      │ (<span style=\"color: #00d7ff; text-decoration-color: #00d7ff\">None</span>, <span style=\"color: #00af00; text-decoration-color: #00af00\">1</span>)                   │             <span style=\"color: #00af00; text-decoration-color: #00af00\">129</span> │\n",
       "└──────────────────────────────────────┴─────────────────────────────┴─────────────────┘\n",
       "</pre>\n"
      ],
      "text/plain": [
       "┏━━━━━━━━━━━━━━━━━━━━━━━━━━━━━━━━━━━━━━┳━━━━━━━━━━━━━━━━━━━━━━━━━━━━━┳━━━━━━━━━━━━━━━━━┓\n",
       "┃\u001b[1m \u001b[0m\u001b[1mLayer (type)                        \u001b[0m\u001b[1m \u001b[0m┃\u001b[1m \u001b[0m\u001b[1mOutput Shape               \u001b[0m\u001b[1m \u001b[0m┃\u001b[1m \u001b[0m\u001b[1m        Param #\u001b[0m\u001b[1m \u001b[0m┃\n",
       "┡━━━━━━━━━━━━━━━━━━━━━━━━━━━━━━━━━━━━━━╇━━━━━━━━━━━━━━━━━━━━━━━━━━━━━╇━━━━━━━━━━━━━━━━━┩\n",
       "│ xception (\u001b[38;5;33mFunctional\u001b[0m)                │ (\u001b[38;5;45mNone\u001b[0m, \u001b[38;5;34m5\u001b[0m, \u001b[38;5;34m5\u001b[0m, \u001b[38;5;34m2048\u001b[0m)          │      \u001b[38;5;34m20,861,480\u001b[0m │\n",
       "├──────────────────────────────────────┼─────────────────────────────┼─────────────────┤\n",
       "│ flatten_1 (\u001b[38;5;33mFlatten\u001b[0m)                  │ (\u001b[38;5;45mNone\u001b[0m, \u001b[38;5;34m51200\u001b[0m)               │               \u001b[38;5;34m0\u001b[0m │\n",
       "├──────────────────────────────────────┼─────────────────────────────┼─────────────────┤\n",
       "│ dense_3 (\u001b[38;5;33mDense\u001b[0m)                      │ (\u001b[38;5;45mNone\u001b[0m, \u001b[38;5;34m256\u001b[0m)                 │      \u001b[38;5;34m13,107,456\u001b[0m │\n",
       "├──────────────────────────────────────┼─────────────────────────────┼─────────────────┤\n",
       "│ dense_4 (\u001b[38;5;33mDense\u001b[0m)                      │ (\u001b[38;5;45mNone\u001b[0m, \u001b[38;5;34m128\u001b[0m)                 │          \u001b[38;5;34m32,896\u001b[0m │\n",
       "├──────────────────────────────────────┼─────────────────────────────┼─────────────────┤\n",
       "│ dense_5 (\u001b[38;5;33mDense\u001b[0m)                      │ (\u001b[38;5;45mNone\u001b[0m, \u001b[38;5;34m1\u001b[0m)                   │             \u001b[38;5;34m129\u001b[0m │\n",
       "└──────────────────────────────────────┴─────────────────────────────┴─────────────────┘\n"
      ]
     },
     "metadata": {},
     "output_type": "display_data"
    },
    {
     "data": {
      "text/html": [
       "<pre style=\"white-space:pre;overflow-x:auto;line-height:normal;font-family:Menlo,'DejaVu Sans Mono',consolas,'Courier New',monospace\"><span style=\"font-weight: bold\"> Total params: </span><span style=\"color: #00af00; text-decoration-color: #00af00\">34,001,961</span> (129.71 MB)\n",
       "</pre>\n"
      ],
      "text/plain": [
       "\u001b[1m Total params: \u001b[0m\u001b[38;5;34m34,001,961\u001b[0m (129.71 MB)\n"
      ]
     },
     "metadata": {},
     "output_type": "display_data"
    },
    {
     "data": {
      "text/html": [
       "<pre style=\"white-space:pre;overflow-x:auto;line-height:normal;font-family:Menlo,'DejaVu Sans Mono',consolas,'Courier New',monospace\"><span style=\"font-weight: bold\"> Trainable params: </span><span style=\"color: #00af00; text-decoration-color: #00af00\">17,889,281</span> (68.24 MB)\n",
       "</pre>\n"
      ],
      "text/plain": [
       "\u001b[1m Trainable params: \u001b[0m\u001b[38;5;34m17,889,281\u001b[0m (68.24 MB)\n"
      ]
     },
     "metadata": {},
     "output_type": "display_data"
    },
    {
     "data": {
      "text/html": [
       "<pre style=\"white-space:pre;overflow-x:auto;line-height:normal;font-family:Menlo,'DejaVu Sans Mono',consolas,'Courier New',monospace\"><span style=\"font-weight: bold\"> Non-trainable params: </span><span style=\"color: #00af00; text-decoration-color: #00af00\">16,112,680</span> (61.46 MB)\n",
       "</pre>\n"
      ],
      "text/plain": [
       "\u001b[1m Non-trainable params: \u001b[0m\u001b[38;5;34m16,112,680\u001b[0m (61.46 MB)\n"
      ]
     },
     "metadata": {},
     "output_type": "display_data"
    }
   ],
   "source": [
    "model.summary()"
   ]
  },
  {
   "cell_type": "code",
   "execution_count": 5,
   "id": "06bd1b11-5c2e-4e0c-87e8-83b58c5a2f5f",
   "metadata": {},
   "outputs": [
    {
     "name": "stdout",
     "output_type": "stream",
     "text": [
      "Epoch 1/10\n",
      "\u001b[1m100/100\u001b[0m \u001b[32m━━━━━━━━━━━━━━━━━━━━\u001b[0m\u001b[37m\u001b[0m \u001b[1m75s\u001b[0m 748ms/step - accuracy: 0.9331 - loss: 0.1758 - val_accuracy: 0.9630 - val_loss: 0.1163\n",
      "Epoch 2/10\n",
      "\u001b[1m100/100\u001b[0m \u001b[32m━━━━━━━━━━━━━━━━━━━━\u001b[0m\u001b[37m\u001b[0m \u001b[1m74s\u001b[0m 738ms/step - accuracy: 0.9383 - loss: 0.1804 - val_accuracy: 0.9720 - val_loss: 0.0840\n",
      "Epoch 3/10\n",
      "\u001b[1m100/100\u001b[0m \u001b[32m━━━━━━━━━━━━━━━━━━━━\u001b[0m\u001b[37m\u001b[0m \u001b[1m74s\u001b[0m 741ms/step - accuracy: 0.9435 - loss: 0.1468 - val_accuracy: 0.9720 - val_loss: 0.0638\n",
      "Epoch 4/10\n",
      "\u001b[1m100/100\u001b[0m \u001b[32m━━━━━━━━━━━━━━━━━━━━\u001b[0m\u001b[37m\u001b[0m \u001b[1m74s\u001b[0m 746ms/step - accuracy: 0.9477 - loss: 0.1344 - val_accuracy: 0.9660 - val_loss: 0.0807\n",
      "Epoch 5/10\n",
      "\u001b[1m100/100\u001b[0m \u001b[32m━━━━━━━━━━━━━━━━━━━━\u001b[0m\u001b[37m\u001b[0m \u001b[1m79s\u001b[0m 788ms/step - accuracy: 0.9288 - loss: 0.1546 - val_accuracy: 0.9700 - val_loss: 0.0766\n",
      "Epoch 6/10\n",
      "\u001b[1m100/100\u001b[0m \u001b[32m━━━━━━━━━━━━━━━━━━━━\u001b[0m\u001b[37m\u001b[0m \u001b[1m59s\u001b[0m 589ms/step - accuracy: 0.9374 - loss: 0.1571 - val_accuracy: 1.0000 - val_loss: 2.1619e-06\n",
      "Epoch 7/10\n",
      "\u001b[1m100/100\u001b[0m \u001b[32m━━━━━━━━━━━━━━━━━━━━\u001b[0m\u001b[37m\u001b[0m \u001b[1m75s\u001b[0m 750ms/step - accuracy: 0.9535 - loss: 0.1193 - val_accuracy: 0.9690 - val_loss: 0.0902\n",
      "Epoch 8/10\n",
      "\u001b[1m100/100\u001b[0m \u001b[32m━━━━━━━━━━━━━━━━━━━━\u001b[0m\u001b[37m\u001b[0m \u001b[1m46s\u001b[0m 459ms/step - accuracy: 0.9606 - loss: 0.1162 - val_accuracy: 0.9780 - val_loss: 0.0904\n",
      "Epoch 9/10\n",
      "\u001b[1m100/100\u001b[0m \u001b[32m━━━━━━━━━━━━━━━━━━━━\u001b[0m\u001b[37m\u001b[0m \u001b[1m75s\u001b[0m 745ms/step - accuracy: 0.9482 - loss: 0.1446 - val_accuracy: 0.9650 - val_loss: 0.0784\n",
      "Epoch 10/10\n",
      "\u001b[1m100/100\u001b[0m \u001b[32m━━━━━━━━━━━━━━━━━━━━\u001b[0m\u001b[37m\u001b[0m \u001b[1m75s\u001b[0m 747ms/step - accuracy: 0.9485 - loss: 0.1455 - val_accuracy: 0.9440 - val_loss: 0.1294\n"
     ]
    }
   ],
   "source": [
    "history = model.fit(\n",
    "    train_generator,\n",
    "    steps_per_epoch=100,\n",
    "    epochs=10,\n",
    "    validation_data=validation_generator,\n",
    "    validation_steps=50\n",
    ")\n"
   ]
  },
  {
   "cell_type": "code",
   "execution_count": null,
   "id": "16583873-1d3d-4736-906c-4ef631becb03",
   "metadata": {},
   "outputs": [],
   "source": [
    "\n",
    "\n",
    "\n"
   ]
  }
 ],
 "metadata": {
  "kernelspec": {
   "display_name": "Python 3 (ipykernel)",
   "language": "python",
   "name": "python3"
  },
  "language_info": {
   "codemirror_mode": {
    "name": "ipython",
    "version": 3
   },
   "file_extension": ".py",
   "mimetype": "text/x-python",
   "name": "python",
   "nbconvert_exporter": "python",
   "pygments_lexer": "ipython3",
   "version": "3.12.2"
  }
 },
 "nbformat": 4,
 "nbformat_minor": 5
}
